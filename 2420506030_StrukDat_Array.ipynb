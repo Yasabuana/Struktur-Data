{
  "nbformat": 4,
  "nbformat_minor": 0,
  "metadata": {
    "colab": {
      "provenance": [],
      "authorship_tag": "ABX9TyOqqwiGXTgTz5oMHrzQrykA",
      "include_colab_link": true
    },
    "kernelspec": {
      "name": "python3",
      "display_name": "Python 3"
    },
    "language_info": {
      "name": "python"
    }
  },
  "cells": [
    {
      "cell_type": "markdown",
      "metadata": {
        "id": "view-in-github",
        "colab_type": "text"
      },
      "source": [
        "<a href=\"https://colab.research.google.com/github/Yasabuana/Struktur-Data/blob/main/2420506030_StrukDat_Array.ipynb\" target=\"_parent\"><img src=\"https://colab.research.google.com/assets/colab-badge.svg\" alt=\"Open In Colab\"/></a>"
      ]
    },
    {
      "cell_type": "code",
      "source": [
        "class Stack:\n",
        "    def __init__(self):\n",
        "        self.stack = []\n",
        "\n",
        "    def push(self, item):\n",
        "        self.stack.append(item)\n",
        "\n",
        "#Contoh penggunaan\n",
        "s = Stack()\n",
        "s.push(8)\n",
        "s.push(9)\n",
        "print(s.stack)"
      ],
      "metadata": {
        "colab": {
          "base_uri": "https://localhost:8080/"
        },
        "id": "zqD9J1gBe4X2",
        "outputId": "09af20d7-0e03-4873-8537-8550d592d775"
      },
      "execution_count": null,
      "outputs": [
        {
          "output_type": "stream",
          "name": "stdout",
          "text": [
            "[8, 9]\n"
          ]
        }
      ]
    },
    {
      "cell_type": "code",
      "source": [
        "class Stack:\n",
        "    def __init__(self):\n",
        "        self.stack = []\n",
        "\n",
        "\n",
        "\n",
        "    def push(self, item):\n",
        "        self.stack.append(item)\n",
        "\n",
        "\n",
        "    def pop(self):\n",
        "        if len(self.stack) == 0:\n",
        "            return \"stack kosong\"\n",
        "        return self.stack.pop()\n",
        "\n",
        "s = Stack()\n",
        "s.push(8)\n",
        "s.push(10)\n",
        "print(s.pop())\n",
        "print(s.stack)"
      ],
      "metadata": {
        "colab": {
          "base_uri": "https://localhost:8080/",
          "height": 211
        },
        "id": "YQLYujwSe4QQ",
        "outputId": "d1319917-b328-41f7-9c40-7f769fd0d456"
      },
      "execution_count": null,
      "outputs": [
        {
          "output_type": "error",
          "ename": "AttributeError",
          "evalue": "'Stack' object has no attribute 'push'",
          "traceback": [
            "\u001b[0;31m---------------------------------------------------------------------------\u001b[0m",
            "\u001b[0;31mAttributeError\u001b[0m                            Traceback (most recent call last)",
            "\u001b[0;32m<ipython-input-9-9af76a901208>\u001b[0m in \u001b[0;36m<cell line: 0>\u001b[0;34m()\u001b[0m\n\u001b[1;32m     10\u001b[0m \u001b[0;34m\u001b[0m\u001b[0m\n\u001b[1;32m     11\u001b[0m \u001b[0ms\u001b[0m \u001b[0;34m=\u001b[0m \u001b[0mStack\u001b[0m\u001b[0;34m(\u001b[0m\u001b[0;34m)\u001b[0m\u001b[0;34m\u001b[0m\u001b[0;34m\u001b[0m\u001b[0m\n\u001b[0;32m---> 12\u001b[0;31m \u001b[0ms\u001b[0m\u001b[0;34m.\u001b[0m\u001b[0mpush\u001b[0m\u001b[0;34m(\u001b[0m\u001b[0;36m8\u001b[0m\u001b[0;34m)\u001b[0m\u001b[0;34m\u001b[0m\u001b[0;34m\u001b[0m\u001b[0m\n\u001b[0m\u001b[1;32m     13\u001b[0m \u001b[0ms\u001b[0m\u001b[0;34m.\u001b[0m\u001b[0mpush\u001b[0m\u001b[0;34m(\u001b[0m\u001b[0;36m10\u001b[0m\u001b[0;34m)\u001b[0m\u001b[0;34m\u001b[0m\u001b[0;34m\u001b[0m\u001b[0m\n\u001b[1;32m     14\u001b[0m \u001b[0mprint\u001b[0m\u001b[0;34m(\u001b[0m\u001b[0ms\u001b[0m\u001b[0;34m.\u001b[0m\u001b[0mpop\u001b[0m\u001b[0;34m(\u001b[0m\u001b[0;34m)\u001b[0m\u001b[0;34m)\u001b[0m\u001b[0;34m\u001b[0m\u001b[0;34m\u001b[0m\u001b[0m\n",
            "\u001b[0;31mAttributeError\u001b[0m: 'Stack' object has no attribute 'push'"
          ]
        }
      ]
    },
    {
      "cell_type": "code",
      "source": [
        "class Stack:\n",
        "    def __init__(self):\n",
        "        self.stack = []\n",
        "\n",
        "    def push(self, item):\n",
        "        self.stack.append(item)\n",
        "\n",
        "    def peek(self):\n",
        "        if len(self.stack) == 0:\n",
        "            return \"stack kosong\"\n",
        "        return self.stack[-1]\n",
        "\n",
        "s = Stack()\n",
        "s.push(5)\n",
        "s.push(10)\n",
        "s.push(9)\n",
        "print(s.peek())\n",
        "print(s.stack)"
      ],
      "metadata": {
        "colab": {
          "base_uri": "https://localhost:8080/"
        },
        "id": "bS-OJAf_e4EZ",
        "outputId": "38d3842f-cc4d-43d2-955c-f8ac3ded403c"
      },
      "execution_count": null,
      "outputs": [
        {
          "output_type": "stream",
          "name": "stdout",
          "text": [
            "9\n",
            "[5, 10, 9]\n"
          ]
        }
      ]
    },
    {
      "cell_type": "code",
      "source": [
        "class Stack:\n",
        "    def __init__(self):\n",
        "        self.stack = []\n",
        "\n",
        "    def push(self, item):\n",
        "        self.stack.append(item)\n",
        "\n",
        "    def is_empty(self):\n",
        "        return len(self.stack) == 0\n",
        "\n",
        "s = Stack()\n",
        "print(s.is_empty())\n",
        "s.push(4)\n",
        "print(s.is_empty())"
      ],
      "metadata": {
        "colab": {
          "base_uri": "https://localhost:8080/"
        },
        "id": "h165ixJUhMi-",
        "outputId": "3c3b6614-8a51-4590-882e-7b9c7bf8300c"
      },
      "execution_count": null,
      "outputs": [
        {
          "output_type": "stream",
          "name": "stdout",
          "text": [
            "True\n",
            "False\n"
          ]
        }
      ]
    },
    {
      "cell_type": "code",
      "execution_count": null,
      "metadata": {
        "colab": {
          "base_uri": "https://localhost:8080/"
        },
        "id": "-iOx07HQ0Gge",
        "outputId": "2bf4b4b3-05b4-4437-968d-1467e6291f6a"
      },
      "outputs": [
        {
          "output_type": "stream",
          "name": "stdout",
          "text": [
            "Undo : Menghapus 'Ini teks ketiga.'\n",
            "Undo : Menghapus 'Ini teks kedua.'\n"
          ]
        }
      ],
      "source": [
        "# 1\n",
        "\n",
        "class TextEditor:\n",
        "    def __init__(self):\n",
        "        self.history = []\n",
        "\n",
        "    def write(self, text):\n",
        "        self.history.append(text)\n",
        "\n",
        "    def undo(self):\n",
        "        if self.history:\n",
        "            return f\"Undo : Menghapus '{self.history.pop()}'\"\n",
        "        return \"Tidak ada yang bisa di undo\"\n",
        "\n",
        "#contoh penggunaan\n",
        "editor = TextEditor()\n",
        "editor.write(\"Halo, ini teks pertama.\")\n",
        "editor.write(\"Ini teks kedua.\")\n",
        "editor.write(\"Ini teks ketiga.\")\n",
        "\n",
        "print(editor.undo())\n",
        "print(editor.undo())"
      ]
    },
    {
      "cell_type": "code",
      "source": [
        "#Latihan 1\n",
        "class Kalkulator:\n",
        "    def __init__(self, NPM):\n",
        "        self.hasil = NPM\n",
        "        self.history = []\n",
        "\n",
        "    def operasi(self, operasi, angka):\n",
        "        self.history.append(self.hasil)\n",
        "        if operasi == '+':\n",
        "            self.hasil += angka\n",
        "        elif operasi == '-':\n",
        "            self.hasil -= angka\n",
        "        elif operasi == '*':\n",
        "            self.hasil *= angka\n",
        "        elif operasi == '/':\n",
        "            if angka == 0:\n",
        "                print(\"Tidak dapat membagi dengan nol!\")\n",
        "                self.history.pop()\n",
        "                return\n",
        "            self.hasil /= angka\n",
        "        print(f\"Operasi: {operasi} {angka}, Hasil: {self.hasil}\")\n",
        "\n",
        "    def undo(self):\n",
        "        if not self.history:\n",
        "            print(\"Tidak ada operasi untuk di undo!\")\n",
        "        else:\n",
        "            self.hasil = self.history.pop()\n",
        "            print(f\"Berhasil undo! Hasil kembali menjadi: {self.hasil}\")\n",
        "\n",
        "NPM = 30\n",
        "kalkulator = Kalkulator(NPM)\n",
        "\n",
        "for _ in range(3):\n",
        "    operasi = input(\"Masukkan operasi (+, -, *, /) \")\n",
        "    angka = float(input(\"Masukkan angka: \"))\n",
        "    kalkulator.operasi(operasi, angka)\n",
        "\n",
        "while True:\n",
        "    undo_input = input(\"Apakah ingin melakukan undo? (y/n): \")\n",
        "    if undo_input == 'y':\n",
        "        kalkulator.undo()\n",
        "    else:\n",
        "        print(\"Program selesai.\")\n",
        "        break\n"
      ],
      "metadata": {
        "colab": {
          "base_uri": "https://localhost:8080/"
        },
        "id": "mmN_KO25vgH1",
        "outputId": "dcf00ada-0599-4111-eb35-b628ab21eb24"
      },
      "execution_count": null,
      "outputs": [
        {
          "output_type": "stream",
          "name": "stdout",
          "text": [
            "Masukkan operasi (+, -, *, /): +\n",
            "Masukkan angka: 3\n",
            "Operasi: + 3.0, Hasil: 33.0\n",
            "Masukkan operasi (+, -, *, /): -\n",
            "Masukkan angka: 2\n",
            "Operasi: - 2.0, Hasil: 31.0\n",
            "Apakah ingin melakukan undo? (y/n): y\n",
            "Undo! Hasil kembali menjadi: 33.0\n",
            "Apakah ingin melakukan undo? (y/n): y\n",
            "Undo! Hasil kembali menjadi: 30\n",
            "Apakah ingin melakukan undo? (y/n): y\n",
            "Tidak ada operasi untuk di-undo!\n",
            "Apakah ingin melakukan undo? (y/n): n\n",
            "Program selesai.\n"
          ]
        }
      ]
    },
    {
      "cell_type": "code",
      "source": [
        "# 2\n",
        "from collections import deque\n",
        "\n",
        "class BrowserHistory:\n",
        "    def __init__(self):\n",
        "        self.history = deque()\n",
        "\n",
        "    def visit(self, url):\n",
        "        self.history.append(url)\n",
        "        print(f\"Mengunjungi: {url}\")\n",
        "\n",
        "    def back(self):\n",
        "        if self.history:\n",
        "            print(f\"Kembali ke: {self.history.pop()}\")\n",
        "        else:\n",
        "            print(\"Tidak ada riwayat!\")\n",
        "\n",
        "\n",
        "# Contoh Penggunaan\n",
        "browser = BrowserHistory()\n",
        "browser.visit(\"google.com\")\n",
        "browser.visit(\"youtube.com\")\n",
        "browser.visit(\"github.com\")\n",
        "\n",
        "browser.back()\n",
        "browser.back()"
      ],
      "metadata": {
        "id": "p08ZGcG23td3",
        "colab": {
          "base_uri": "https://localhost:8080/"
        },
        "outputId": "2d67a25d-b6ad-4611-9453-db19dbde1bb7"
      },
      "execution_count": null,
      "outputs": [
        {
          "output_type": "stream",
          "name": "stdout",
          "text": [
            "Mengunjungi: google.com\n",
            "Mengunjungi: youtube.com\n",
            "Mengunjungi: github.com\n",
            "Kembali ke: github.com\n",
            "Kembali ke: youtube.com\n"
          ]
        }
      ]
    },
    {
      "cell_type": "code",
      "source": [
        "#Latihan 2\n",
        "from collections import deque\n",
        "\n",
        "class Aplication_History:\n",
        "    def __init__(self):\n",
        "        self.history = deque()\n",
        "\n",
        "    def visit(self, fitur):\n",
        "        self.history.append(fitur)\n",
        "        print(f\"Membuka : {fitur}\")\n",
        "\n",
        "    def back(self):\n",
        "        if len(self.history) > 1:\n",
        "            print(f\"Kembali ke: {self.history.pop()}\")\n",
        "        else:\n",
        "            print(\"Tidak ada riwayat!\")\n",
        "\n",
        "bulan_user = input(str(\" Masukkan bulan lahir user: \"))\n",
        "NPM_user = input(\"Masukkan NPM user: \")\n",
        "\n",
        "history_app = Aplication_History()\n",
        "\n",
        "fitur_user = bulan_user[0] + NPM_user[-2:]\n",
        "\n",
        "history_app.visit(f\"{fitur_user} fitur ke 1\")\n",
        "history_app.visit(f\"{fitur_user} fitur ke 2\")\n",
        "history_app.visit(f\"{fitur_user} fitur ke 3\")\n",
        "\n",
        "history_app.back()\n",
        "history_app.back()\n",
        "history_app.back()\n",
        "history_app.back()\n",
        "\n",
        "\n",
        "\n",
        "\n",
        "\n"
      ],
      "metadata": {
        "colab": {
          "base_uri": "https://localhost:8080/"
        },
        "id": "fjZGF4iW3U06",
        "outputId": "226329ad-386a-4dc2-fa15-fff9a6b8d73c"
      },
      "execution_count": null,
      "outputs": [
        {
          "output_type": "stream",
          "name": "stdout",
          "text": [
            " Masukkan bulan lahir user: Desember \n",
            "Masukkan NPM user: 2420506030\n",
            "Membuka : D30 fitur ke 1\n",
            "Membuka : D30 fitur ke 2\n",
            "Membuka : D30 fitur ke 3\n",
            "Kembali ke: D30 fitur ke 3\n",
            "Kembali ke: D30 fitur ke 2\n",
            "Tidak ada riwayat!\n",
            "Tidak ada riwayat!\n"
          ]
        }
      ]
    },
    {
      "cell_type": "code",
      "source": [
        "#3\n",
        "from queue import LifoQueue\n",
        "\n",
        "class BackupSystem:\n",
        "    def __init__(self):\n",
        "        self.backups = LifoQueue()\n",
        "\n",
        "    def backup(self,version):\n",
        "        self.backups.put(version)\n",
        "\n",
        "    def latest_backup(self):\n",
        "        if not self.backups.empty():\n",
        "            return f\"Versi terbaru: {self.backups.queue[1]}\"\n",
        "        return \"Tidak ada cadangan!\"\n",
        "\n",
        "#Contoh penggunaan\n",
        "backup_system = BackupSystem()\n",
        "backup_system.backup(\"Backup 1\")\n",
        "backup_system.backup(\"Backup 2\")\n",
        "backup_system.backup(\"Backup 3\")\n",
        "\n",
        "print(backup_system.latest_backup())\n"
      ],
      "metadata": {
        "colab": {
          "base_uri": "https://localhost:8080/"
        },
        "id": "-LiESJvit1KD",
        "outputId": "7eeba58c-8e04-43f0-e730-472bb349ab9f"
      },
      "execution_count": null,
      "outputs": [
        {
          "output_type": "stream",
          "name": "stdout",
          "text": [
            "Versi terbaru: Backup 2\n"
          ]
        }
      ]
    },
    {
      "cell_type": "code",
      "source": [
        "#Latihan 3\n",
        "from queue import LifoQueue\n",
        "\n",
        "class Draft_Email:\n",
        "    def __init__(self):\n",
        "        self.draft = LifoQueue()\n",
        "\n",
        "    def tambah_draft(self, email):\n",
        "        self.draft.put(email)\n",
        "\n",
        "    def tampilkan_draft(self):\n",
        "        if not self.draft.empty():\n",
        "            return f\"Draft yang ada: {self.draft.queue}\"\n",
        "        return \"Tidak ada draft!\"\n",
        "\n",
        "    def draft_terakhir(self):\n",
        "        if not self.draft.empty():\n",
        "            return f\"Draft terbaru: {self.draft.queue[-1]}\"\n",
        "\n",
        "\n",
        "DraftEmail = Draft_Email()\n",
        "DraftEmail.tambah_draft(\"Ya30\")\n",
        "DraftEmail.tambah_draft(\"Ya30 part 2\")\n",
        "DraftEmail.tambah_draft(\"Ya30 part 3\")\n",
        "\n",
        "print(DraftEmail.tampilkan_draft())\n",
        "print(DraftEmail.draft_terakhir())\n",
        "\n"
      ],
      "metadata": {
        "colab": {
          "base_uri": "https://localhost:8080/"
        },
        "id": "FXJPgkEp-9Ee",
        "outputId": "8ac108da-e2b3-4f77-de1d-80cc320054fa"
      },
      "execution_count": null,
      "outputs": [
        {
          "output_type": "stream",
          "name": "stdout",
          "text": [
            "Draft yang ada: ['Ya30', 'Ya30 part 2', 'Ya30 part 3']\n",
            "Draft terbaru: Ya30 part 3\n"
          ]
        }
      ]
    },
    {
      "cell_type": "code",
      "source": [
        "#4\n",
        "\n",
        "class CustomerService:\n",
        "    def __init__(self):\n",
        "        self.tickets = []\n",
        "\n",
        "    def add_ticket(self, ticket):\n",
        "        self.tickets.append(ticket)\n",
        "\n",
        "    def process_ticket(self):\n",
        "        if not self.is_empty():\n",
        "            return f\"Memproses tiket: {self.tickets.pop()}\"\n",
        "        return \"Tidak ada tiket yang harus diproses \"\n",
        "\n",
        "    def is_empty(self):\n",
        "        return len(self.tickets) == 0\n",
        "\n",
        "\n",
        "#Contoh Penggunaan\n",
        "service = CustomerService()\n",
        "service.add_ticket(\"Tiket 001\")\n",
        "service.add_ticket(\"Tiket 002\")\n",
        "\n",
        "\n",
        "print(service.process_ticket())\n",
        "print(service.is_empty())"
      ],
      "metadata": {
        "colab": {
          "base_uri": "https://localhost:8080/"
        },
        "id": "hLpF2i_YwWR0",
        "outputId": "ce47e8f4-ae3a-4483-c290-a7fa6b9c2e86"
      },
      "execution_count": null,
      "outputs": [
        {
          "output_type": "stream",
          "name": "stdout",
          "text": [
            "Memproses tiket: Tiket 002\n",
            "False\n"
          ]
        }
      ]
    },
    {
      "cell_type": "code",
      "source": [
        "#Latihan 4\n",
        "from queue import LifoQueue\n",
        "\n",
        "class SistemAntreanBioskop:\n",
        "    def __init__(self, nama_film):\n",
        "        self.antrean = LifoQueue()\n",
        "        self.nama_film = nama_film\n",
        "\n",
        "    def beli_tiket(self, nama_pelanggan):\n",
        "        self.antrean.put(nama_pelanggan)\n",
        "        print(f\"{nama_pelanggan} membeli tiket untuk film '{self.nama_film}'\")\n",
        "\n",
        "    def proses_tiket(self):\n",
        "        if not self.antrean.empty():\n",
        "            pelanggan = self.antrean.get()\n",
        "            print(f\"Memproses tiket untuk: {pelanggan}\")\n",
        "        else:\n",
        "            print(\"Antrean kosong, tidak ada tiket yang diproses!\")\n",
        "\n",
        "    def tampilkan_antrean(self):\n",
        "        if not self.antrean.empty():\n",
        "            print(f\"Antrean saat ini: {list(self.antrean.queue)}\")\n",
        "        else:\n",
        "            print(\"Antrean kosong!\")\n",
        "\n",
        "bulan_lahir = input(\"Masukkan bulan lahir: \")\n",
        "NPM = input(\"Masukkan NPM: \")\n",
        "\n",
        "\n",
        "nama_film = bulan_lahir[0].upper() + NPM[-2:]\n",
        "\n",
        "bioskop = SistemAntreanBioskop(nama_film)\n",
        "\n",
        "\n",
        "for i in range(3):\n",
        "    nama_pelanggan = input(f\"Masukkan nama pelanggan ke-{i+1}: \")\n",
        "    bioskop.beli_tiket(nama_pelanggan)\n",
        "\n",
        "bioskop.tampilkan_antrean()\n",
        "\n",
        "while True:\n",
        "    lanjut = input(\"Proses tiket selanjutnya? (y/n): \")\n",
        "    if lanjut == 'y':\n",
        "        bioskop.proses_tiket()\n",
        "    else:\n",
        "        print(\"Sistem selesai.\")\n",
        "        break\n"
      ],
      "metadata": {
        "id": "-6Q4SIFizBDM",
        "colab": {
          "base_uri": "https://localhost:8080/"
        },
        "outputId": "ad6d01ef-9484-4079-a097-054e79b90989"
      },
      "execution_count": null,
      "outputs": [
        {
          "output_type": "stream",
          "name": "stdout",
          "text": [
            "Masukkan bulan lahir: Desember\n",
            "Masukkan NPM: 2420506030\n",
            "Masukkan nama pelanggan ke-1: Yasa\n",
            "Yasa membeli tiket untuk film 'D30'\n",
            "Masukkan nama pelanggan ke-2: Sabil\n",
            "Sabil membeli tiket untuk film 'D30'\n",
            "Masukkan nama pelanggan ke-3: Hammam\n",
            "Hammam membeli tiket untuk film 'D30'\n",
            "Antrean saat ini: ['Yasa', 'Sabil', 'Hammam']\n",
            "Proses tiket selanjutnya? (y/n): y\n",
            "Memproses tiket untuk: Hammam\n",
            "Proses tiket selanjutnya? (y/n): y\n",
            "Memproses tiket untuk: Sabil\n",
            "Proses tiket selanjutnya? (y/n): y\n",
            "Memproses tiket untuk: Yasa\n",
            "Proses tiket selanjutnya? (y/n): y\n",
            "Antrean kosong, tidak ada tiket yang diproses!\n",
            "Proses tiket selanjutnya? (y/n): n\n",
            "Sistem selesai.\n"
          ]
        }
      ]
    },
    {
      "cell_type": "code",
      "source": [
        "#Tugas\n",
        "class Gudang:\n",
        "    def __init__(self, kapasitas):\n",
        "        self.kapasitas = kapasitas\n",
        "        self.tumpukan = []\n",
        "\n",
        "    def push(self, barang):\n",
        "        if len(self.tumpukan) < self.kapasitas:\n",
        "            self.tumpukan.append(barang)\n",
        "            print(f\"Barang '{barang}' ditambahkan ke gudang.\")\n",
        "        else:\n",
        "            print(\"Gudang penuh! Tidak bisa menambahkan barang.\")\n",
        "\n",
        "    def pop(self):\n",
        "        if self.tumpukan:\n",
        "            barang = self.tumpukan.pop()\n",
        "            print(f\"Barang '{barang}' diambil dari gudang.\")\n",
        "            return barang\n",
        "        else:\n",
        "            print(\"Gudang kosong! Tidak ada barang yang bisa diambil.\")\n",
        "            return None\n",
        "\n",
        "    def tampilkan_tumpukan(self):\n",
        "        if self.tumpukan:\n",
        "            print(\"Isi tumpukan gudang:\")\n",
        "            for barang in reversed(self.tumpukan):\n",
        "                print(f\"- {barang}\")\n",
        "        else:\n",
        "            print(\"Gudang kosong.\")\n",
        "\n",
        "\n",
        "kapasitas_gudang =int(input(\"Masukkan kapasitas gudang (dua digit terakhir NPM): \"))\n",
        "gudang = Gudang(kapasitas_gudang)\n",
        "\n",
        "while True:\n",
        "    print(\"\\nMenu:\")\n",
        "    print(\"1. Tambah barang (push)\")\n",
        "    print(\"2. Ambil barang (pop)\")\n",
        "    print(\"3. Tampilkan isi gudang\")\n",
        "    print(\"4. Keluar\")\n",
        "\n",
        "    pilihan = input(\"Masukkan pilihan Anda: \")\n",
        "\n",
        "    if pilihan == \"1\":\n",
        "        barang = input(\"Masukkan nama barang yang ingin ditambahkan: \")\n",
        "        gudang.push(barang)\n",
        "    elif pilihan == \"2\":\n",
        "        gudang.pop()\n",
        "    elif pilihan == \"3\":\n",
        "        gudang.tampilkan_tumpukan()\n",
        "    elif pilihan == \"4\":\n",
        "        break\n",
        "    else:\n",
        "        print(\"Pilihan tidak valid. Silakan coba lagi.\")\n",
        "\n",
        "print(\"Program selesai.\")"
      ],
      "metadata": {
        "colab": {
          "base_uri": "https://localhost:8080/"
        },
        "id": "6RiqblbmrUN4",
        "outputId": "005985cd-6ff4-4b01-84a2-d939f3bc448e"
      },
      "execution_count": null,
      "outputs": [
        {
          "output_type": "stream",
          "name": "stdout",
          "text": [
            "Masukkan kapasitas gudang (dua digit terakhir NPM): 03\n",
            "\n",
            "Menu:\n",
            "1. Tambah barang (push)\n",
            "2. Ambil barang (pop)\n",
            "3. Tampilkan isi gudang\n",
            "4. Keluar\n",
            "Masukkan pilihan Anda: 1\n",
            "Masukkan nama barang yang ingin ditambahkan: lele\n",
            "Barang 'lele' ditambahkan ke gudang.\n",
            "\n",
            "Menu:\n",
            "1. Tambah barang (push)\n",
            "2. Ambil barang (pop)\n",
            "3. Tampilkan isi gudang\n",
            "4. Keluar\n",
            "Masukkan pilihan Anda: 1\n",
            "Masukkan nama barang yang ingin ditambahkan: tahu\n",
            "Barang 'tahu' ditambahkan ke gudang.\n",
            "\n",
            "Menu:\n",
            "1. Tambah barang (push)\n",
            "2. Ambil barang (pop)\n",
            "3. Tampilkan isi gudang\n",
            "4. Keluar\n",
            "Masukkan pilihan Anda: 1\n",
            "Masukkan nama barang yang ingin ditambahkan: ayam\n",
            "Barang 'ayam' ditambahkan ke gudang.\n",
            "\n",
            "Menu:\n",
            "1. Tambah barang (push)\n",
            "2. Ambil barang (pop)\n",
            "3. Tampilkan isi gudang\n",
            "4. Keluar\n",
            "Masukkan pilihan Anda: 1\n",
            "Masukkan nama barang yang ingin ditambahkan: kuah soto\n",
            "Gudang penuh! Tidak bisa menambahkan barang.\n",
            "\n",
            "Menu:\n",
            "1. Tambah barang (push)\n",
            "2. Ambil barang (pop)\n",
            "3. Tampilkan isi gudang\n",
            "4. Keluar\n",
            "Masukkan pilihan Anda: 3\n",
            "Isi tumpukan gudang:\n",
            "- ayam\n",
            "- tahu\n",
            "- lele\n",
            "\n",
            "Menu:\n",
            "1. Tambah barang (push)\n",
            "2. Ambil barang (pop)\n",
            "3. Tampilkan isi gudang\n",
            "4. Keluar\n",
            "Masukkan pilihan Anda: 2\n",
            "Barang 'ayam' diambil dari gudang.\n",
            "\n",
            "Menu:\n",
            "1. Tambah barang (push)\n",
            "2. Ambil barang (pop)\n",
            "3. Tampilkan isi gudang\n",
            "4. Keluar\n",
            "Masukkan pilihan Anda: 3\n",
            "Isi tumpukan gudang:\n",
            "- tahu\n",
            "- lele\n",
            "\n",
            "Menu:\n",
            "1. Tambah barang (push)\n",
            "2. Ambil barang (pop)\n",
            "3. Tampilkan isi gudang\n",
            "4. Keluar\n",
            "Masukkan pilihan Anda: 2\n",
            "Barang 'tahu' diambil dari gudang.\n",
            "\n",
            "Menu:\n",
            "1. Tambah barang (push)\n",
            "2. Ambil barang (pop)\n",
            "3. Tampilkan isi gudang\n",
            "4. Keluar\n",
            "Masukkan pilihan Anda: 3\n",
            "Isi tumpukan gudang:\n",
            "- lele\n",
            "\n",
            "Menu:\n",
            "1. Tambah barang (push)\n",
            "2. Ambil barang (pop)\n",
            "3. Tampilkan isi gudang\n",
            "4. Keluar\n",
            "Masukkan pilihan Anda: 2\n",
            "Barang 'lele' diambil dari gudang.\n",
            "\n",
            "Menu:\n",
            "1. Tambah barang (push)\n",
            "2. Ambil barang (pop)\n",
            "3. Tampilkan isi gudang\n",
            "4. Keluar\n",
            "Masukkan pilihan Anda: 2\n",
            "Gudang kosong! Tidak ada barang yang bisa diambil.\n",
            "\n",
            "Menu:\n",
            "1. Tambah barang (push)\n",
            "2. Ambil barang (pop)\n",
            "3. Tampilkan isi gudang\n",
            "4. Keluar\n",
            "Masukkan pilihan Anda: 4\n",
            "Program selesai.\n"
          ]
        }
      ]
    },
    {
      "cell_type": "code",
      "source": [],
      "metadata": {
        "id": "ftpOA1tB-c-O"
      },
      "execution_count": null,
      "outputs": []
    }
  ]
}