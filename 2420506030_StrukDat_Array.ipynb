{
  "nbformat": 4,
  "nbformat_minor": 0,
  "metadata": {
    "colab": {
      "provenance": [],
      "authorship_tag": "ABX9TyM+vE54i17oFEHlYOm889Ni",
      "include_colab_link": true
    },
    "kernelspec": {
      "name": "python3",
      "display_name": "Python 3"
    },
    "language_info": {
      "name": "python"
    }
  },
  "cells": [
    {
      "cell_type": "markdown",
      "metadata": {
        "id": "view-in-github",
        "colab_type": "text"
      },
      "source": [
        "<a href=\"https://colab.research.google.com/github/Yasabuana/Struktur-Data/blob/main/2420506030_StrukDat_Array.ipynb\" target=\"_parent\"><img src=\"https://colab.research.google.com/assets/colab-badge.svg\" alt=\"Open In Colab\"/></a>"
      ]
    },
    {
      "cell_type": "code",
      "source": [
        "#List Python (list)\n",
        "# Deklarasi array menggunakan list\n",
        "angka = [10, 20, 30, 40, 50]\n",
        "print(\"Array dengan list:\" , angka)\n",
        "\n",
        "#Modul array\n",
        "import array\n",
        "angka = array.array('i', [10, 20, 30, 40, 50])\n",
        "print(\"Array dengan modul array:\" , angka)\n",
        "\n",
        "#Modul numpy\n",
        "import numpy as np\n",
        "angka = np.array([10, 20, 30, 40, 50])\n",
        "print(\"Array dengan numpy:\" , angka)\n",
        "\n",
        "#Array 1 dimensi\n",
        "import numpy as np\n",
        "angka = np.array([1, 2, 3, 4, 5])\n",
        "print(\"Array satu dimensi:\" , angka)\n",
        "\n",
        "#Array 2 dimensi\n",
        "matriks = np.array([[1,2], [3,4], [5,6]])\n",
        "print(\"Array dua dimensi:\" , matriks)\n",
        "\n",
        "#Array 3 dimensi\n",
        "array3D = np.array([[[1,2], [3,4]], [[5,6], [7,8]]])\n",
        "print(\"Array tiga dimensi:\" , array3D)\n",
        "\n",
        "\n"
      ],
      "metadata": {
        "id": "RSFsfHNQyDKN",
        "colab": {
          "base_uri": "https://localhost:8080/"
        },
        "outputId": "5b82c6c6-8556-47c6-fe28-fc5a6525ebfb"
      },
      "execution_count": null,
      "outputs": [
        {
          "output_type": "stream",
          "name": "stdout",
          "text": [
            "Array dengan list: [10, 20, 30, 40, 50]\n",
            "Array dengan modul array: array('i', [10, 20, 30, 40, 50])\n",
            "Array dengan numpy: [10 20 30 40 50]\n",
            "Array satu dimensi: [1 2 3 4 5]\n",
            "Array dua dimensi: [[1 2]\n",
            " [3 4]\n",
            " [5 6]]\n",
            "Array tiga dimensi: [[[1 2]\n",
            "  [3 4]]\n",
            "\n",
            " [[5 6]\n",
            "  [7 8]]]\n"
          ]
        }
      ]
    },
    {
      "cell_type": "markdown",
      "source": [
        "LATIHAN 1"
      ],
      "metadata": {
        "id": "yDP4_vZw0vgS"
      }
    },
    {
      "cell_type": "code",
      "source": [
        "# Deklarasi array kosong\n",
        "data = []\n",
        "\n",
        "# Inisialisasi array dengan elemen\n",
        "angka = [10, 20, 30, 40, 50]\n",
        "\n",
        "# Menampilkan isi array\n",
        "print(\"Isi array angka:\" , angka)\n"
      ],
      "metadata": {
        "colab": {
          "base_uri": "https://localhost:8080/"
        },
        "id": "3_G1-pjT0vAf",
        "outputId": "882434c7-e602-49e3-f8f7-b339408a948b"
      },
      "execution_count": null,
      "outputs": [
        {
          "output_type": "stream",
          "name": "stdout",
          "text": [
            "Isi array angka: [10, 20, 30, 40, 50]\n"
          ]
        }
      ]
    },
    {
      "cell_type": "code",
      "execution_count": null,
      "metadata": {
        "colab": {
          "base_uri": "https://localhost:8080/"
        },
        "id": "gwaTZHqTpsVV",
        "outputId": "3597c852-2943-44d0-c7c3-f79ce75947f2"
      },
      "outputs": [
        {
          "output_type": "stream",
          "name": "stdout",
          "text": [
            " Tampilkan NPM Peserta peraih penghargaan [2420506030, 2420506031, 2420506032, 2420506033, 2420506034]\n"
          ]
        }
      ],
      "source": [
        "#Latihan 1\n",
        "NPM = []\n",
        "NPM = [2420506030, 2420506031, 2420506032, 2420506033, 2420506034, ]\n",
        "\n",
        "print(\" Tampilkan NPM Peserta peraih penghargaan\", NPM)\n"
      ]
    },
    {
      "cell_type": "markdown",
      "source": [
        "LATIHAN 2"
      ],
      "metadata": {
        "id": "3nZlpLR41b5C"
      }
    },
    {
      "cell_type": "code",
      "source": [
        "# a. Mengakses Elemen Array\n",
        "print (\"Elemen pertama: \", angka[0]) #elemen pertama\n",
        "print(\"Elemen terakhir:\" , angka[-1]) #elemen terakhir\n",
        "\n",
        "# b. Menambah elemen menggunakan append()\n",
        "angka.append(60)\n",
        "print(\"Array setelah penambahan elemen:\", angka)\n",
        "\n",
        "# Menambah elemen menggunakan insert()\n",
        "angka.insert(2.25) # Menyisipkan 25 di indeks ke 2\n",
        "print(\"Array setelah penambahan elemen dengan insert:\", angka)\n",
        "\n",
        "# c. Menghapus elemen menggunakan remove()\n",
        "angka.remove(25) #menghapus nilai  25\n",
        "print(\"Array setelah menghapus elemen 25:\", angka)\n",
        "\n",
        "# Menghapus elemen menggunakan pop()\n",
        "angka.pop(2) #Menghapus elemen pada indeks ke 2\n",
        "print(\"Array setelah menghapus elemen pada indeks ke 2:\", angka)\n",
        "\n",
        "# d. Mengubah elemen array\n",
        "\n",
        "# Mengubah elemen pada indeks 0\n",
        "angka[0] = 100\n",
        "print(\"Array setelah mengubah elemen pertama:\", angka)\n"
      ],
      "metadata": {
        "id": "fIqzFLsD1be8"
      },
      "execution_count": null,
      "outputs": []
    },
    {
      "cell_type": "code",
      "source": [
        "#Latihan 2\n",
        "\n",
        "angka = [ 10, 20, 30, 40, 50]\n",
        "angka.append(30)\n",
        "print(\"Array setelah penambahan elemen:\", angka)\n",
        "angka.pop(0)\n",
        "print(\"Array setelah penghapusan elemen:\", angka)"
      ],
      "metadata": {
        "colab": {
          "base_uri": "https://localhost:8080/"
        },
        "id": "f8JdARUDzXXa",
        "outputId": "c129a3a3-500e-4c87-db1c-0573dee7ae4f"
      },
      "execution_count": null,
      "outputs": [
        {
          "output_type": "stream",
          "name": "stdout",
          "text": [
            "Array setelah penambahan elemen: [10, 20, 30, 40, 50, 30]\n",
            "Array setelah penghapusan elemen: [20, 30, 40, 50, 30]\n"
          ]
        }
      ]
    },
    {
      "cell_type": "markdown",
      "source": [
        "LATIHAN 3"
      ],
      "metadata": {
        "id": "CjkapZMZ4E47"
      }
    },
    {
      "cell_type": "code",
      "source": [
        "#Iterasi dengan perulangan\n",
        "angka = [10, 20,30, 40]\n",
        "\n",
        "for nilai in angka:\n",
        "    print(\"Nilai:\", nilai)"
      ],
      "metadata": {
        "id": "6JmN1GpT4Ejj"
      },
      "execution_count": null,
      "outputs": []
    },
    {
      "cell_type": "code",
      "source": [
        "#Latihan 3\n",
        "\n",
        "Fakultas = [\"Teknik\", \"Keguruan dan Ilmu Pendidikan\", \"Pertanian\", \"Ilmu Sosial dan Ilmu Politik\", \"Ekonomi\"]\n",
        "for Banyak_Fakultas in Fakultas:\n",
        "    print(\"Fakultas\" ,Banyak_Fakultas)\n"
      ],
      "metadata": {
        "colab": {
          "base_uri": "https://localhost:8080/"
        },
        "id": "xS-v_w5F0mrK",
        "outputId": "1c216237-7f54-46a4-83ac-94eda51441d4"
      },
      "execution_count": null,
      "outputs": [
        {
          "output_type": "stream",
          "name": "stdout",
          "text": [
            "Fakultas Teknik\n",
            "Fakultas Keguruan dan Ilmu Pendidikan\n",
            "Fakultas Pertanian\n",
            "Fakultas Ilmu Sosial dan Ilmu Politik\n",
            "Fakultas Ekonomi\n"
          ]
        }
      ]
    },
    {
      "cell_type": "markdown",
      "source": [
        "LATIHAN 4"
      ],
      "metadata": {
        "id": "hAZWJl7n4bOS"
      }
    },
    {
      "cell_type": "code",
      "source": [
        "# Operasi Matematika Sederhana\n",
        "\n",
        "angka = [10, 20, 30, 40, 50]\n",
        "\n",
        "print(\"Jumlah total:\", sum(angka))\n",
        "print(\"Nilai maksimum:\", max(angka))\n",
        "print(\"Nilai minimal:\", min(angka))"
      ],
      "metadata": {
        "id": "6KygaMN-4aub",
        "colab": {
          "base_uri": "https://localhost:8080/"
        },
        "outputId": "6c08cc2e-670a-48e5-abae-0af3b943f11b"
      },
      "execution_count": null,
      "outputs": [
        {
          "output_type": "stream",
          "name": "stdout",
          "text": [
            "Jumlah total: 150\n",
            "Nilai maksimum: 50\n",
            "Nilai minimal: 10\n"
          ]
        }
      ]
    },
    {
      "cell_type": "code",
      "source": [
        "#Latihan 4\n",
        "Harga = [ 2500, 5000, 7500, 10000, 20000]\n",
        "print(\"Harga total:\", sum(Harga))\n",
        "print(\"Harga dengan nilai termahal:\", max(Harga))\n",
        "print(\"Harga dengan nilai termurah:\", min(Harga))"
      ],
      "metadata": {
        "colab": {
          "base_uri": "https://localhost:8080/"
        },
        "id": "Az9IPhbH3PyD",
        "outputId": "aaaa45b0-5b86-4042-edbb-0995b2d68c49"
      },
      "execution_count": null,
      "outputs": [
        {
          "output_type": "stream",
          "name": "stdout",
          "text": [
            "Harga total: 45000\n",
            "Harga dengan nilai termahal: 20000\n",
            "Harga dengan nilai termurah: 2500\n"
          ]
        }
      ]
    },
    {
      "cell_type": "markdown",
      "source": [
        "LATIHAN 5"
      ],
      "metadata": {
        "id": "K1jPoIdB4zSf"
      }
    },
    {
      "cell_type": "code",
      "source": [
        "# Deklarasi array 2d\n",
        "matriks = [\n",
        "    [1, 2, 3],\n",
        "    [4, 5, 6],\n",
        "    [7, 8, 9]\n",
        "]\n",
        "\n",
        "# Menampilkan isi array 2D\n",
        "print(\"Isi array 2D:\")\n",
        "for baris in matriks:\n",
        "    print(baris)"
      ],
      "metadata": {
        "id": "kQBqeopF4zFN",
        "colab": {
          "base_uri": "https://localhost:8080/"
        },
        "outputId": "6285ad0e-1522-4d2c-8299-c8dedb109e0c"
      },
      "execution_count": null,
      "outputs": [
        {
          "output_type": "stream",
          "name": "stdout",
          "text": [
            "Isi array 2D:\n",
            "[1, 2, 3]\n",
            "[4, 5, 6]\n",
            "[7, 8, 9]\n"
          ]
        }
      ]
    },
    {
      "cell_type": "code",
      "source": [
        "#Latihan 5\n",
        "No_HP = [\n",
        "  [0, 8, 8, 2],\n",
        "  [2, 5, 4, 2],\n",
        "  [5, 9, 2, 7]\n",
        "]\n",
        "for Nomor in No_HP:\n",
        "  print(Nomor)"
      ],
      "metadata": {
        "colab": {
          "base_uri": "https://localhost:8080/"
        },
        "id": "Jv8uSKSB6jnl",
        "outputId": "ddbd9318-5503-4e35-da01-fe4e6be564a0"
      },
      "execution_count": null,
      "outputs": [
        {
          "output_type": "stream",
          "name": "stdout",
          "text": [
            "[0, 8, 8, 2]\n",
            "[2, 5, 4, 2]\n",
            "[5, 9, 2, 7]\n"
          ]
        }
      ]
    },
    {
      "cell_type": "markdown",
      "source": [
        "LATIHAN 6"
      ],
      "metadata": {
        "id": "wrlSKRSA5Vow"
      }
    },
    {
      "cell_type": "code",
      "source": [
        "# Mengakses elemen pada baris ke-1, kolom ke 2 (indeks [0][1])\n",
        "print(\"Elemen pada baris 1, kolom\")\n",
        "\n",
        "# Mengakses elemen terakhir (baris ke 3 , kolom ke 3)\n",
        "print(\"Elemen terakhir:\", matriks[-1][-1])\n"
      ],
      "metadata": {
        "id": "Q4JApuXC5Shs"
      },
      "execution_count": null,
      "outputs": []
    },
    {
      "cell_type": "code",
      "source": [
        "#Latihan 6\n",
        "print(\"Elemen pada baris ke 2 kolom ke 4:\" , No_HP[1][3])\n"
      ],
      "metadata": {
        "colab": {
          "base_uri": "https://localhost:8080/"
        },
        "id": "jv3BM5A55SO2",
        "outputId": "f9bbe36d-826f-4a1b-cd2b-fafe3bf52869"
      },
      "execution_count": null,
      "outputs": [
        {
          "output_type": "stream",
          "name": "stdout",
          "text": [
            "Elemen pada baris ke 2 kolom ke 4: 3\n"
          ]
        }
      ]
    },
    {
      "cell_type": "markdown",
      "source": [
        "LATIHAN 7"
      ],
      "metadata": {
        "id": "hwzaG1mf7bIA"
      }
    },
    {
      "cell_type": "code",
      "source": [
        "# menambahkan baris baru\n",
        "matriks.append([10, 11, 12])\n",
        "print(\"Array setelah menambahkan baris baru:\", matriks)\n",
        "\n",
        "# Menambahkan elemen pada baris ke 2\n",
        "matriks [1].append(99)\n",
        "print(\"Array setelah menambahkan elemen pada baris ke 2:\", matriks)"
      ],
      "metadata": {
        "id": "JWwZ52OR7aIe",
        "colab": {
          "base_uri": "https://localhost:8080/"
        },
        "outputId": "3523ed73-766d-4cdd-89d7-378daedccc07"
      },
      "execution_count": null,
      "outputs": [
        {
          "output_type": "stream",
          "name": "stdout",
          "text": [
            "Array setelah menambahkan baris baru: [[10, 11, 12], [10, 11, 12, 99], [10, 11, 12]]\n",
            "Array setelah menambahkan elemen pada baris ke 2: [[10, 11, 12], [10, 11, 12, 99, 99], [10, 11, 12]]\n"
          ]
        }
      ]
    },
    {
      "cell_type": "code",
      "source": [
        "#Latihan 7\n",
        "Matriks = [\n",
        "    [0, 8, 8, 2],\n",
        "  [2, 5, 4, 2],\n",
        "  [5, 9, 2, 7]\n",
        "]\n",
        "\n",
        "Matriks.append([3, 12, 20, 5])\n",
        "for Baris in Matriks:\n",
        "  print(Baris)"
      ],
      "metadata": {
        "colab": {
          "base_uri": "https://localhost:8080/"
        },
        "id": "O7ZQ_VJi892X",
        "outputId": "82852cef-2dfe-4010-942b-8d28f7ec49e1"
      },
      "execution_count": null,
      "outputs": [
        {
          "output_type": "stream",
          "name": "stdout",
          "text": [
            "[0, 8, 8, 2]\n",
            "[2, 5, 4, 2]\n",
            "[5, 9, 2, 7]\n",
            "[3, 12, 20, 5]\n"
          ]
        }
      ]
    },
    {
      "cell_type": "markdown",
      "source": [
        "LATIHAN 8"
      ],
      "metadata": {
        "id": "IHwJD00K78-O"
      }
    },
    {
      "cell_type": "code",
      "source": [
        "# Menghapus elemen tertentu dari baris ke 1\n",
        "matriks[0].remove(2)\n",
        "print(\"Array setelah menghapus elemen 2 dari baris pertama:,\" matriks)\n",
        "\n",
        "# Menghapus elemen pada indeks tertentu dari baris ke 2\n",
        "matriks[1].pop(1)\n",
        "print(\"Array setelah menghapus elemen indeks ke 1 dari baris ke 2:\", matriks)"
      ],
      "metadata": {
        "id": "Oh_rCSsG3-hn"
      },
      "execution_count": null,
      "outputs": []
    },
    {
      "cell_type": "code",
      "source": [
        "#Latihan 8\n",
        "\n",
        "No_HP = [\n",
        "  [0, 8, 8, 2],\n",
        "  [2, 5, 4, 2],\n",
        "  [5, 9, 2, 7]\n",
        "]\n",
        "\n",
        "No_HP[-1].pop(-1)\n",
        "for Baris in No_HP:\n",
        "  print(Baris)"
      ],
      "metadata": {
        "id": "onwW5mkKFVz4",
        "colab": {
          "base_uri": "https://localhost:8080/"
        },
        "outputId": "890cb581-27ca-4781-dcb0-26f29fe247e1"
      },
      "execution_count": null,
      "outputs": [
        {
          "output_type": "stream",
          "name": "stdout",
          "text": [
            "[0, 8, 8, 2]\n",
            "[2, 5, 4, 2]\n",
            "[5, 9, 2]\n"
          ]
        }
      ]
    },
    {
      "cell_type": "markdown",
      "source": [
        "LATIHAN 9"
      ],
      "metadata": {
        "id": "eVrX2mfN8orD"
      }
    },
    {
      "cell_type": "code",
      "source": [
        "# Menghapus elemen pada baris ke 3, kolom ke 2\n",
        "No_HP[2][1] = 88\n",
        "print(\"Array setelah mengubah elemen baris ke 3, kolom ke 2:\" , No_HP)"
      ],
      "metadata": {
        "id": "fWrcx5pp8oac",
        "colab": {
          "base_uri": "https://localhost:8080/"
        },
        "outputId": "47773c2a-a501-4386-a08b-07e4fc9f9fce"
      },
      "execution_count": null,
      "outputs": [
        {
          "output_type": "stream",
          "name": "stdout",
          "text": [
            "Array setelah mengubah elemen baris ke 3, kolom ke 2: [[0, 8, 8, 2], [2, 5, 4, 2], [5, 88, 2]]\n"
          ]
        }
      ]
    },
    {
      "cell_type": "code",
      "source": [
        "#Latihan 9\n",
        "No_HP[-1] [-1] = 17\n",
        "\n",
        "for Baris in No_HP:\n",
        "  print(Baris)"
      ],
      "metadata": {
        "id": "KBiGyblrA1_z",
        "colab": {
          "base_uri": "https://localhost:8080/"
        },
        "outputId": "924885a4-b117-4517-fc96-06f0d61029fc"
      },
      "execution_count": null,
      "outputs": [
        {
          "output_type": "stream",
          "name": "stdout",
          "text": [
            "[0, 8, 8, 2]\n",
            "[2, 5, 4, 2]\n",
            "[5, 88, 17]\n"
          ]
        }
      ]
    },
    {
      "cell_type": "markdown",
      "source": [
        "LATIHAN 10"
      ],
      "metadata": {
        "id": "x6aXJkUt9Djz"
      }
    },
    {
      "cell_type": "code",
      "source": [
        "Belanja = [\"Beras\", \"Gula\", \"Minyak\"]\n",
        "Belanja.append(\"Teh\")\n",
        "Belanja.remove(\"Gula\")\n",
        "\n",
        "print(\"Daftar belanjaa terbaru\" , Belanja)"
      ],
      "metadata": {
        "id": "IhmtaIeP9DOX"
      },
      "execution_count": null,
      "outputs": []
    },
    {
      "cell_type": "code",
      "source": [
        "#Latihan 10\n",
        "\n",
        "Belanja = [\"Mikrotik\", \"Router\", \"Access Point\", \"RJ45\", \"Switch\"]\n",
        "Belanja.append(\"Tang Crimping\")\n",
        "Belanja.remove(\"RJ45\")\n",
        "\n",
        "print(\"Macam barang belanjaan adalah\" , Belanja)"
      ],
      "metadata": {
        "colab": {
          "base_uri": "https://localhost:8080/"
        },
        "id": "fLlioHte4s8X",
        "outputId": "a29414f2-b48d-4538-946e-dbef77453621"
      },
      "execution_count": null,
      "outputs": [
        {
          "output_type": "stream",
          "name": "stdout",
          "text": [
            "Macam barang belanjaan adalah ['Mikrotik', 'Router', 'Access Point', 'Switch', 'Tang Crimping']\n"
          ]
        }
      ]
    },
    {
      "cell_type": "code",
      "source": [],
      "metadata": {
        "id": "qtWFUHeM6p9g"
      },
      "execution_count": null,
      "outputs": []
    }
  ]
}