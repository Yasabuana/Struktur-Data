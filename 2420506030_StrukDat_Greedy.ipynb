{
  "nbformat": 4,
  "nbformat_minor": 0,
  "metadata": {
    "colab": {
      "provenance": [],
      "authorship_tag": "ABX9TyO1f5CKF9o9SECHUDuGawep",
      "include_colab_link": true
    },
    "kernelspec": {
      "name": "python3",
      "display_name": "Python 3"
    },
    "language_info": {
      "name": "python"
    }
  },
  "cells": [
    {
      "cell_type": "markdown",
      "metadata": {
        "id": "view-in-github",
        "colab_type": "text"
      },
      "source": [
        "<a href=\"https://colab.research.google.com/github/Yasabuana/Struktur-Data/blob/main/2420506030_StrukDat_Greedy.ipynb\" target=\"_parent\"><img src=\"https://colab.research.google.com/assets/colab-badge.svg\" alt=\"Open In Colab\"/></a>"
      ]
    },
    {
      "cell_type": "code",
      "execution_count": 3,
      "metadata": {
        "colab": {
          "base_uri": "https://localhost:8080/"
        },
        "id": "GX5eAeXEx42g",
        "outputId": "e00a1c3f-9c1a-4ad9-c6f2-c6051602237b"
      },
      "outputs": [
        {
          "output_type": "stream",
          "name": "stdout",
          "text": [
            "Koin yang digunakan: [25, 25, 5, 1, 1]\n"
          ]
        }
      ],
      "source": [
        "#Coin change\n",
        "def coin_change_greedy(amount, coins):\n",
        "    coins.sort(reverse=True)\n",
        "    result = []\n",
        "    for coin in coins:\n",
        "        while amount >= coin:\n",
        "            amount -= coin\n",
        "            result.append(coin)\n",
        "    return result\n",
        "\n",
        "# Contoh Penggunaan\n",
        "amount = 57\n",
        "coins = [25, 10, 5, 1]\n",
        "change = coin_change_greedy(amount, coins)\n",
        "print(\"Koin yang digunakan:\",change)"
      ]
    },
    {
      "cell_type": "code",
      "source": [
        "# Fractional Knapsack\n",
        "def fractional_knapsack(items, capacity):\n",
        "    items.sort(key=lambda x: x[1] / x[0], reverse=True)\n",
        "    total_value = 0.0\n",
        "    for value, weight in items:\n",
        "        if capacity >= weight:\n",
        "            capacity -= weight\n",
        "            total_value += value\n",
        "        else:\n",
        "            total_value += value * (capacity / weight)\n",
        "            break\n",
        "    return total_value\n",
        "\n",
        "items = [(60, 10), (120, 30), (100, 20)]\n",
        "capacity = 50\n",
        "max_value = fractional_knapsack(items, capacity)\n",
        "print(\"Nilai maksimum yang dapat diperoleh:\",max_value)\n"
      ],
      "metadata": {
        "colab": {
          "base_uri": "https://localhost:8080/"
        },
        "id": "SB3m1gvwygYA",
        "outputId": "b6b96feb-885f-48fb-c532-5cd97e47d6d0"
      },
      "execution_count": 4,
      "outputs": [
        {
          "output_type": "stream",
          "name": "stdout",
          "text": [
            "Nilai maksimum yang dapat diperoleh: 220.0\n"
          ]
        }
      ]
    },
    {
      "cell_type": "code",
      "source": [
        "# Min Spanning Tree\n",
        "import heapq\n",
        "\n",
        "def prim_mst(graph, start):\n",
        "    visited = set()\n",
        "    min_heap = [(0, start)]\n",
        "    total_weight = 0\n",
        "\n",
        "    while min_heap:\n",
        "        weight, node = heapq.heappop(min_heap)\n",
        "        if node in visited:\n",
        "            continue\n",
        "        visited.add(node)\n",
        "        total_weight += weight\n",
        "        for neighbor, edge_weight in graph[node]:\n",
        "            if neighbor not in visited:\n",
        "                heapq.heappush(min_heap, (edge_weight, neighbor))\n",
        "    return total_weight\n",
        "\n",
        "\n",
        "graph = {\n",
        "    'A': [('B', 2), ('C', 3)],\n",
        "    'B': [('A', 2), ('C', 1), ('D',1)],\n",
        "    'C': [('A', 3), ('B', 1), ('D', 4)],\n",
        "    'D': [('B', 1), ('C', 4)]\n",
        "}\n",
        "\n",
        "print(\"Total bobot MST (Prim):\", prim_mst(graph, 'A'))"
      ],
      "metadata": {
        "colab": {
          "base_uri": "https://localhost:8080/"
        },
        "id": "iC7Y-Ut0zwvu",
        "outputId": "01e4f2a7-3f8a-4559-8cba-de08dccf110d"
      },
      "execution_count": 5,
      "outputs": [
        {
          "output_type": "stream",
          "name": "stdout",
          "text": [
            "Total bobot MST (Prim): 4\n"
          ]
        }
      ]
    },
    {
      "cell_type": "code",
      "source": [
        "def kruskal_mst(edges, n_nodes):\n",
        "    parent = {i : i for i in range(n_nodes)}\n",
        "\n",
        "    def find(x):\n",
        "        while parent[x] != x:\n",
        "            x = parent[x]\n",
        "        return x\n",
        "\n",
        "    def union(x, y):\n",
        "        root_x = find(x)\n",
        "        root_y = find(y)\n",
        "        if root_x != root_y:\n",
        "            parent[root_y] = root_x\n",
        "            return True\n",
        "        return False\n",
        "    edges.sort(key=lambda x: x[2])\n",
        "    total_weight = 0\n",
        "    for u, v, weight in edges:\n",
        "        if union(u, v):\n",
        "            total_weight += weight\n",
        "    return total_weight\n",
        "\n",
        "edges = [(0, 1, 2), (0, 2, 3), (1, 2, 1), (1, 3, 1), (2, 3, 4)]\n",
        "print(\"total bobot MST(Kruskal):\", kruskal_mst(edges, 4))"
      ],
      "metadata": {
        "colab": {
          "base_uri": "https://localhost:8080/"
        },
        "id": "uRzt9HDT1-FM",
        "outputId": "ab19f118-2244-4da8-dfa8-9d444390af0e"
      },
      "execution_count": 7,
      "outputs": [
        {
          "output_type": "stream",
          "name": "stdout",
          "text": [
            "total bobot MST(Kruskal): 4\n"
          ]
        }
      ]
    },
    {
      "cell_type": "code",
      "source": [],
      "metadata": {
        "id": "2WPuRjUb31-P"
      },
      "execution_count": null,
      "outputs": []
    }
  ]
}