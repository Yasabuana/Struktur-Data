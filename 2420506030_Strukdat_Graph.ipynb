{
  "nbformat": 4,
  "nbformat_minor": 0,
  "metadata": {
    "colab": {
      "provenance": [],
      "authorship_tag": "ABX9TyOnlXGcMNNrVytgtqMfkaXY",
      "include_colab_link": true
    },
    "kernelspec": {
      "name": "python3",
      "display_name": "Python 3"
    },
    "language_info": {
      "name": "python"
    }
  },
  "cells": [
    {
      "cell_type": "markdown",
      "metadata": {
        "id": "view-in-github",
        "colab_type": "text"
      },
      "source": [
        "<a href=\"https://colab.research.google.com/github/Yasabuana/Struktur-Data/blob/main/2420506030_Strukdat_Graph.ipynb\" target=\"_parent\"><img src=\"https://colab.research.google.com/assets/colab-badge.svg\" alt=\"Open In Colab\"/></a>"
      ]
    },
    {
      "cell_type": "code",
      "execution_count": 2,
      "metadata": {
        "colab": {
          "base_uri": "https://localhost:8080/"
        },
        "id": "Pu1JMzzIZRRv",
        "outputId": "00b170b8-9aa6-4533-cc39-44a5be95bc99"
      },
      "outputs": [
        {
          "output_type": "stream",
          "name": "stdout",
          "text": [
            "A -> ['B', 'C']\n",
            "B -> ['A', 'D', 'E']\n",
            "C -> ['A', 'F']\n",
            "D -> ['B']\n",
            "E -> ['B', 'F']\n",
            "F -> ['C', 'E']\n"
          ]
        }
      ],
      "source": [
        "# Membuat graph tak berarah menggunakan adjacency list\n",
        "\n",
        "graph = {\n",
        "    'A': ['B', 'C'],\n",
        "    'B': ['A', 'D', 'E'],\n",
        "    'C': ['A', 'F'],\n",
        "    'D': ['B'],\n",
        "    'E': ['B', 'F'],\n",
        "    'F': ['C', 'E']\n",
        "}\n",
        "\n",
        "# Menampilkan graph\n",
        "def print_graph(graph):\n",
        "    for node in graph :\n",
        "        print(f\"{node} -> {graph[node]}\")\n",
        "print_graph(graph)"
      ]
    },
    {
      "cell_type": "code",
      "source": [
        "# Traversal Graph menggunakan BFS\n",
        "from collections import deque\n",
        "\n",
        "def bfs(graph, start):\n",
        "    visited = set()\n",
        "    queue = deque([start])\n",
        "\n",
        "    while queue:\n",
        "        vertex = queue.popleft()\n",
        "        if vertex not in visited:\n",
        "            print(vertex, end=' ')\n",
        "            visited.add(vertex)\n",
        "            queue.extend([neighbor for neighbor in graph[vertex] if neighbor not in visited])\n",
        "\n",
        "\n",
        "      #contoh pemanggilan\n",
        "bfs(graph, 'A')"
      ],
      "metadata": {
        "colab": {
          "base_uri": "https://localhost:8080/"
        },
        "id": "DJ280_QbaaXN",
        "outputId": "4112455c-4aeb-4e4f-a395-726d6261e52d"
      },
      "execution_count": null,
      "outputs": [
        {
          "output_type": "stream",
          "name": "stdout",
          "text": [
            "A B C D E F "
          ]
        }
      ]
    },
    {
      "cell_type": "code",
      "source": [
        "# Traversal Graph menggunakan DFS\n",
        "def dfs(graph, start, visited=None):\n",
        "    if visited is None :\n",
        "        visited = set()\n",
        "\n",
        "    if start not in visited:\n",
        "        print(start, end=' ')\n",
        "        visited.add(start)\n",
        "        for neighbor in graph[start]:\n",
        "            dfs(graph, neighbor, visited)\n",
        "\n",
        "dfs(graph,'A')"
      ],
      "metadata": {
        "colab": {
          "base_uri": "https://localhost:8080/"
        },
        "id": "5qsww5tqbe6L",
        "outputId": "0b323de6-c263-412d-9c53-0954f13f89ab"
      },
      "execution_count": null,
      "outputs": [
        {
          "output_type": "stream",
          "name": "stdout",
          "text": [
            "A B D E F C "
          ]
        }
      ]
    },
    {
      "cell_type": "code",
      "source": [
        "# Latihan Personal\n",
        "# Lengkapi fungsi untuk menghitung jumlah tetangga dari tiap simpul dalam graf\n",
        "\n",
        "def count_neighbors(graph):\n",
        "    result = {}\n",
        "    for node in graph:\n",
        "        #TO DO : Hitung jumlah tetangga\n",
        "        result[node] = len(graph[node])\n",
        "        print(f\"simpul {node} memiliki {result[node]} tetangga\")\n",
        "\n",
        "count_neighbors(graph)"
      ],
      "metadata": {
        "id": "5hXTslGmcJB5",
        "colab": {
          "base_uri": "https://localhost:8080/"
        },
        "outputId": "6fe3c10b-f236-4aa0-8af8-d0f6f7cb4dc7"
      },
      "execution_count": 16,
      "outputs": [
        {
          "output_type": "stream",
          "name": "stdout",
          "text": [
            "simpul A memiliki 2 tetangga\n",
            "simpul B memiliki 3 tetangga\n",
            "simpul C memiliki 2 tetangga\n",
            "simpul D memiliki 1 tetangga\n",
            "simpul E memiliki 2 tetangga\n",
            "simpul F memiliki 2 tetangga\n"
          ]
        }
      ]
    },
    {
      "cell_type": "code",
      "source": [],
      "metadata": {
        "id": "j4Vr0iHMptXq"
      },
      "execution_count": null,
      "outputs": []
    }
  ]
}