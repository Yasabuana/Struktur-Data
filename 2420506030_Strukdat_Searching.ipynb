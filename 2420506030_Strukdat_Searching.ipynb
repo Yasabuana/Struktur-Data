{
  "nbformat": 4,
  "nbformat_minor": 0,
  "metadata": {
    "colab": {
      "provenance": [],
      "authorship_tag": "ABX9TyP3WzCHTEo2biMjeCWLLfSA",
      "include_colab_link": true
    },
    "kernelspec": {
      "name": "python3",
      "display_name": "Python 3"
    },
    "language_info": {
      "name": "python"
    }
  },
  "cells": [
    {
      "cell_type": "markdown",
      "metadata": {
        "id": "view-in-github",
        "colab_type": "text"
      },
      "source": [
        "<a href=\"https://colab.research.google.com/github/Yasabuana/Struktur-Data/blob/main/2420506030_Strukdat_Searching.ipynb\" target=\"_parent\"><img src=\"https://colab.research.google.com/assets/colab-badge.svg\" alt=\"Open In Colab\"/></a>"
      ]
    },
    {
      "cell_type": "code",
      "execution_count": null,
      "metadata": {
        "colab": {
          "base_uri": "https://localhost:8080/"
        },
        "id": "3oy6JXQrsbcG",
        "outputId": "d100d0ac-407d-4500-c901-8765cebf1b22"
      },
      "outputs": [
        {
          "output_type": "stream",
          "name": "stdout",
          "text": [
            "Masukkan 2 digit terakhir NPM Anda:030\n",
            "Elemen ditemukan pada indeks 4\n"
          ]
        }
      ],
      "source": [
        "#Implementasi Linear Search\n",
        "\n",
        "def linear_search(arr, target):\n",
        "    for i in range(len(arr)):\n",
        "        if arr[i] == target:\n",
        "            return i\n",
        "    return -1\n",
        "\n",
        "arr = [24, 20, 50, 60, 30, 10, 88, 73, 11]\n",
        "target = int(input(\"Masukkan 3 digit terakhir NPM Anda:\"))\n",
        "\n",
        "result = linear_search(arr, target)\n",
        "\n",
        "if result != -1:\n",
        "    print(f\"Elemen ditemukan pada indeks {result}\")\n",
        "else:\n",
        "    print(\"Elemen tidak ditemukan\")"
      ]
    },
    {
      "cell_type": "code",
      "source": [
        "#Implementasi binary seacrh\n",
        "\n",
        "def binary_search(arr, target):\n",
        "    low = 0\n",
        "    high = len(arr) - 1\n",
        "\n",
        "    while low <= high:\n",
        "        mid = (low + high) // 2\n",
        "        if arr[mid] == target:\n",
        "            return mid\n",
        "        elif arr[mid] < target:\n",
        "            low = mid + 1\n",
        "        else:\n",
        "            high = mid -1\n",
        "    return -1\n",
        "arr = ['0101', '0103', '0110', '0111', '0212', '0221', '0312', '0412', '0811']\n",
        "target = input(\"Masukkan tanggal lahir anda (DDMM):\")\n",
        "\n",
        "result = binary_search(arr, target)\n",
        "\n",
        "if result != -1:\n",
        "    print(f\"Elemen ditemukan pada indeks {result}\")\n",
        "else:\n",
        "    print(\"Elemen tidak ditemukan\")\n"
      ],
      "metadata": {
        "colab": {
          "base_uri": "https://localhost:8080/"
        },
        "id": "eQu34wiCt5Iv",
        "outputId": "69dc35dc-b5ca-4654-ff26-b22d0f77784d"
      },
      "execution_count": null,
      "outputs": [
        {
          "output_type": "stream",
          "name": "stdout",
          "text": [
            "Masukkan tanggal lahir anda (DDMM):0811\n",
            "Elemen ditemukan pada indeks 8\n"
          ]
        }
      ]
    },
    {
      "cell_type": "code",
      "source": [
        "import math\n",
        "def jump_search(arr, target):\n",
        "    n = len(arr)\n",
        "    step = int(math.sqrt(n))\n",
        "    prev = 0\n",
        "\n",
        "    while arr[min(step, n) -1] < target:\n",
        "        prev = step\n",
        "        step += int(math.sqrt(n))\n",
        "        if prev >= n:\n",
        "            return -1\n",
        "\n",
        "    for i in range(prev, min(step, n)):\n",
        "        if arr[i] == target:\n",
        "            return i\n",
        "    return -1\n",
        "\n",
        "arr = ['Biyu','David','Figo','Hammam', 'Rayfal','Sabil' ]\n",
        "target = input(\"Masukkan nama teman anda:\")\n",
        "\n",
        "result = jump_search(arr, target)\n",
        "\n",
        "if result != -1:\n",
        "    print(f\"Elemen ditemukan pada indeks {result}\")\n",
        "else:\n",
        "    print(\"Elemen tidak ditemukan\")"
      ],
      "metadata": {
        "colab": {
          "base_uri": "https://localhost:8080/"
        },
        "id": "Z3j0NfrvvzKW",
        "outputId": "3f31fe6b-3462-4185-9849-7406cd444a36"
      },
      "execution_count": null,
      "outputs": [
        {
          "output_type": "stream",
          "name": "stdout",
          "text": [
            "Masukkan nama teman anda:Rayfal\n",
            "Elemen ditemukan pada indeks 4\n"
          ]
        }
      ]
    },
    {
      "cell_type": "code",
      "source": [
        "#Implementasi binary seacrh\n",
        "\n",
        "def binary_search(arr, target):\n",
        "    low = 0\n",
        "    high = len(arr) - 1\n",
        "\n",
        "    while low <= high:\n",
        "        mid = (low + high) // 2\n",
        "        if arr[mid] == target:\n",
        "            return mid\n",
        "        elif arr[mid] < target:\n",
        "            low = mid + 1\n",
        "        else:\n",
        "            high = mid -1\n",
        "    return -1\n",
        "arr = [101, 103, 110, 111, 112, 221, 312, 412, 811, 1203, 1303, 2411]\n",
        "target = int(input(\"Masukkan tanggal lahir anda (DDMM):\"))\n",
        "result = binary_search(arr, target)\n",
        "\n",
        "if result != -1:\n",
        "    print(f\"Elemen ditemukan pada indeks {result}\")\n",
        "else:\n",
        "    print(\"Elemen tidak ditemukan\")"
      ],
      "metadata": {
        "colab": {
          "base_uri": "https://localhost:8080/"
        },
        "id": "8mj6xb_Yy2bD",
        "outputId": "1fa09ac7-f75d-4833-f340-9b8dbd6a3a73"
      },
      "execution_count": null,
      "outputs": [
        {
          "output_type": "stream",
          "name": "stdout",
          "text": [
            "Masukkan tanggal lahir anda (DDMM):0312\n",
            "Elemen ditemukan pada indeks 6\n"
          ]
        }
      ]
    },
    {
      "cell_type": "code",
      "source": [],
      "metadata": {
        "id": "Wthtk6FbJ4mL"
      },
      "execution_count": null,
      "outputs": []
    }
  ]
}