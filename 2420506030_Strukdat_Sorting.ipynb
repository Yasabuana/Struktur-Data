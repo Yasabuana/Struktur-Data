{
  "nbformat": 4,
  "nbformat_minor": 0,
  "metadata": {
    "colab": {
      "provenance": [],
      "authorship_tag": "ABX9TyPw0RJUGCicraAmE0bqrBvy",
      "include_colab_link": true
    },
    "kernelspec": {
      "name": "python3",
      "display_name": "Python 3"
    },
    "language_info": {
      "name": "python"
    }
  },
  "cells": [
    {
      "cell_type": "markdown",
      "metadata": {
        "id": "view-in-github",
        "colab_type": "text"
      },
      "source": [
        "<a href=\"https://colab.research.google.com/github/Yasabuana/Struktur-Data/blob/main/2420506030_Strukdat_Sorting.ipynb\" target=\"_parent\"><img src=\"https://colab.research.google.com/assets/colab-badge.svg\" alt=\"Open In Colab\"/></a>"
      ]
    },
    {
      "cell_type": "code",
      "execution_count": null,
      "metadata": {
        "colab": {
          "base_uri": "https://localhost:8080/"
        },
        "id": "s8wlVd7qtywF",
        "outputId": "264a055f-a148-4a6b-d57c-b47eccd453a7"
      },
      "outputs": [
        {
          "output_type": "stream",
          "name": "stdout",
          "text": [
            "Data sebelum sorting: [64, 34, 25, 12, 22, 11, 90]\n",
            " Data setelah bubble sort: [11, 12, 22, 25, 34, 64, 90]\n"
          ]
        }
      ],
      "source": [
        "#Implementasi Bubble sort\n",
        "def bubble_sort(arr):\n",
        "    n = len(arr)\n",
        "    for i in range(n-1):\n",
        "        for j in range(n - i - 1):\n",
        "            if arr[j] > arr[j + 1]:\n",
        "                arr[j], arr[j + 1] = arr[j + 1], arr[j]\n",
        "\n",
        "    return arr\n",
        "\n",
        "data = [64, 34, 25, 12, 22, 11, 90]\n",
        "sorted_data = bubble_sort(data.copy())\n",
        "print(\"Data sebelum sorting:\", data)\n",
        "print(\"Data setelah bubble sort:\", sorted_data)"
      ]
    },
    {
      "cell_type": "code",
      "source": [
        "#Implementasi Selection sort\n",
        "\n",
        "def selection_sort(arr):\n",
        "    n = len(arr)\n",
        "    for i in range(n - 1):\n",
        "        min_index = 1\n",
        "        for j in range(i + 1,n):\n",
        "            if arr[j] < arr[min_index]:\n",
        "                min_index = j\n",
        "        arr[i], arr[min_index] = arr[min_index], arr[i]\n",
        "    return arr\n",
        "\n",
        "data = [64, 25, 12, 33, 11]\n",
        "sorted_data = selection_sort(data.copy())\n",
        "print(\"Data sebelum sorting:\", data)\n",
        "print(\"Data setelah selection sort:\", sorted_data)"
      ],
      "metadata": {
        "colab": {
          "base_uri": "https://localhost:8080/"
        },
        "id": "NU0W00pEzZz_",
        "outputId": "61580400-620c-4bad-bfb7-921ee6a7fc8c"
      },
      "execution_count": null,
      "outputs": [
        {
          "output_type": "stream",
          "name": "stdout",
          "text": [
            "Data sebelum sorting: [64, 25, 12, 33, 11]\n",
            "Data setelah selection sort: [11, 33, 12, 25, 64]\n"
          ]
        }
      ]
    },
    {
      "cell_type": "code",
      "source": [
        "#Implementasi insertion sort\n",
        "\n",
        "def insertion_sort(arr):\n",
        "    n = len(arr)\n",
        "    for i in range(1, n ):\n",
        "        key = arr[i]\n",
        "        j = i - 1\n",
        "        while j >= 0 and arr[j] > key:\n",
        "            arr[j + 1] = arr[j]\n",
        "            j -= 1\n",
        "        arr[j + 1] = key\n",
        "    return arr\n",
        "\n",
        "data = [64, 34, 25, 12, 22, 11, 90]\n",
        "sorted_data = insertion_sort(data.copy())\n",
        "print(\"Data sebelum sorting:\", data)\n",
        "print(\"Data setelah insertion sort:\", sorted_data)"
      ],
      "metadata": {
        "colab": {
          "base_uri": "https://localhost:8080/"
        },
        "id": "EiaCFOzh0fxa",
        "outputId": "e3577416-ce37-4f82-da60-5515f1155274"
      },
      "execution_count": null,
      "outputs": [
        {
          "output_type": "stream",
          "name": "stdout",
          "text": [
            "Data sebelum sorting: [64, 34, 25, 12, 22, 11, 90]\n",
            "Data setelah insertion sort: [11, 12, 22, 25, 34, 64, 90]\n"
          ]
        }
      ]
    },
    {
      "cell_type": "code",
      "source": [
        "# Implementasi Merge Sort\n",
        "\n",
        "def merge_sort(arr):\n",
        "    if len(arr) > 1:\n",
        "        mid = len(arr) // 2\n",
        "        left_half = arr[:mid]\n",
        "        right_half = arr[mid:]\n",
        "\n",
        "        merge_sort(left_half)\n",
        "        merge_sort(right_half)\n",
        "\n",
        "        i = j = k = 0\n",
        "\n",
        "        while i < len(left_half) and j < len(right_half):\n",
        "            if left_half[i] < right_half[j]:\n",
        "                arr[k] = left_half[i]\n",
        "            else:\n",
        "                arr[k] = right_half[j]\n",
        "                j += 1\n",
        "            while i < len(left_half):\n",
        "                arr[k] = left_half[i]\n",
        "                i += 1\n",
        "                k += 1\n",
        "            while j < len(right_half):\n",
        "                arr[k] = right_half[j]\n",
        "                j += 1\n",
        "                k += 1\n",
        "        return arr\n",
        "data = [64, 34, 25, 12, 22, 11, 90]\n",
        "sorted_data = merge_sort(data.copy())\n",
        "print(\"Data sebelum sorting:\", data)\n",
        "print(\"Data setelah merge sort:\", sorted_data)"
      ],
      "metadata": {
        "colab": {
          "base_uri": "https://localhost:8080/"
        },
        "id": "kr_1TX2S22E9",
        "outputId": "c4594a22-93da-4e47-945e-1fc770b2b345"
      },
      "execution_count": null,
      "outputs": [
        {
          "output_type": "stream",
          "name": "stdout",
          "text": [
            "Data sebelum sorting: [64, 34, 25, 12, 22, 11, 90]\n",
            "Data setelah merge sort: [64, 25, 25, 22, 90, 90, 90]\n"
          ]
        }
      ]
    },
    {
      "cell_type": "code",
      "source": [
        "# Implementasi Quick Sort\n",
        "\n",
        "def quick_sort(arr):\n",
        "    if len(arr) <= 1:\n",
        "        return arr\n",
        "\n",
        "    pivot = arr[len(arr) // 2]\n",
        "    left = [x for x in arr if x < pivot]\n",
        "    middle = [x for x in arr if x == pivot]\n",
        "    right = [x for x in arr if x > pivot]\n",
        "    return quick_sort(left) + middle + quick_sort(right)\n",
        "\n",
        "data = [10,23,44,22,53,66,26,77]\n",
        "sorted_data = quick_sort(data.copy())\n",
        "print(\"Data sebelum sorting\",  data)\n",
        "print(\"Data setelah Quick Sort\", sorted_data)"
      ],
      "metadata": {
        "id": "1WNKK_eu8aYx",
        "colab": {
          "base_uri": "https://localhost:8080/"
        },
        "outputId": "b303e989-1704-42b9-bfb9-41d4311f4e5a"
      },
      "execution_count": null,
      "outputs": [
        {
          "output_type": "stream",
          "name": "stdout",
          "text": [
            "Data sebelum sorting [10, 23, 44, 22, 53, 66, 26, 77]\n",
            "Data setelah Quick Sort [10, 22, 23, 26, 44, 53, 66, 77]\n"
          ]
        }
      ]
    },
    {
      "cell_type": "code",
      "source": [
        "from tabulate import tabulate\n",
        "import os\n",
        "\n",
        "produk = [\n",
        "    {'Nama' : 'Lenovo Ideapad Slim 3', 'Harga': 9500000, 'Rating': 5.0 },\n",
        "    {'Nama' : 'HP Victus', 'Harga': 12400000, 'Rating': 4.8},\n",
        "    {'Nama' : 'Acer Swift Go 14 AI', 'Harga': 12000000, 'Rating': 4.9},\n",
        "    {'Nama' : 'Advan Workplus', 'Harga': 7800000, 'Rating': 4.7},\n",
        "    {'Nama' : 'Macbook Air M2', 'Harga': 13999000, 'Rating': 4.8},\n",
        "    {'Nama' : 'Asus Vivobook 14', 'Harga': 9300000, 'Rating': 4.7}\n",
        "]\n",
        "\n",
        "def quick_sort(data, key, descending = False):\n",
        "    if len(data) <= 1:\n",
        "        return data\n",
        "    pivot = data[len(data) // 2]\n",
        "    left = [x for x in data if x[key] < pivot[key]]\n",
        "    right = [x for x in data if x[key] > pivot[key]]\n",
        "    middle = [x for x in data if x[key] == pivot[key]]\n",
        "\n",
        "    if descending:\n",
        "        return quick_sort(right, key, descending) + middle + quick_sort(left, key, descending)\n",
        "    else:\n",
        "        return quick_sort(left, key, descending) + middle + quick_sort(right, key, descending)\n",
        "\n",
        "def display_produk(data):\n",
        "    header_tabel = [\"Jenis Laptop\", \"Harga (Rp)\", \"Rating\"]\n",
        "    tabel = [[p['Nama'], f\"{p['Harga']:}\", p['Rating']] for p in data]\n",
        "    print(tabulate(tabel, headers = header_tabel, tablefmt=\"rounded_grid\"))\n",
        "\n",
        "while True:\n",
        "    os.system(\"cls\")\n",
        "    print(\"Selamat datang di Toko Laptop YasGemink\")\n",
        "    print(\"Silahkan pilih jenis laptop melalui fitur yang ada pada sistem kami:\")\n",
        "    print(\"1 untuk mengurutkan laptop dari yang termurah ke termahal\")\n",
        "    print(\"2 untuk mengurutkan laptop dari yang termahal ke termurah\")\n",
        "    print(\"3 untuk mengurutkan laptop berdasarkan rating terendah ke tertinggi\")\n",
        "    print(\"4 untuk mengurutkan laptop berdasarkan rating tertinggi ke terendah\")\n",
        "    print(\"5 untuk keluar dari sistem\")\n",
        "\n",
        "    print(\"Masukkan pilihan Anda\")\n",
        "    pilihan = input(\"Masukkan pilihan dengan rentang angka 1-5 : \")\n",
        "\n",
        "    if pilihan == \"1\":\n",
        "        sorted_produk = quick_sort(produk, key = \"Harga\")\n",
        "        print(\" Harga laptop telah diurutkan dari yang termurah \")\n",
        "        display_produk(sorted_produk)\n",
        "\n",
        "    elif pilihan == \"2\":\n",
        "        sorted_produk = quick_sort(produk, key = \"Harga\", descending = True)\n",
        "        print(\"Harga laptop telah diurutkan dari yang termahal\")\n",
        "        display_produk(sorted_produk)\n",
        "\n",
        "    elif pilihan == \"3\":\n",
        "        sorted_produk = quick_sort(produk, key = \"Rating\")\n",
        "        print(\"Rating laptop telah diurutkan dari yang terendah\")\n",
        "        display_produk(sorted_produk)\n",
        "\n",
        "    elif pilihan == \"4\":\n",
        "        sorted_produk = quick_sort(produk, key = \"Rating\", descending = True)\n",
        "        print(\"Rating laptop telah diurutkan dari yang tertinggi\")\n",
        "        display_produk(sorted_produk)\n",
        "\n",
        "    elif pilihan == \"5\":\n",
        "        print(\"Terima kasih telah mengunjungi sistem kami\")\n",
        "        break\n",
        "\n",
        "    else :\n",
        "        print(\"Pilihan yang anda masukkan tidak valid, silahkan dicoba lagi \")\n",
        "\n",
        "    input(\"\\nTekan ENTER untuk kembali ke menu...\")\n",
        "\n",
        "\n",
        "\n",
        "\n",
        "\n",
        "\n",
        "\n",
        "\n"
      ],
      "metadata": {
        "colab": {
          "base_uri": "https://localhost:8080/"
        },
        "id": "rUE19rnQxy7B",
        "outputId": "b7db1ab7-6a00-4a51-fa44-c857f339b68f"
      },
      "execution_count": null,
      "outputs": [
        {
          "output_type": "stream",
          "name": "stdout",
          "text": [
            "Selamat datang di Toko Laptop YasGemink\n",
            "Silahkan pilih jenis laptop melalui fitur yang ada pada sistem kami:\n",
            "1 untuk mengurutkan laptop dari yang termurah ke termahal\n",
            "2 untuk mengurutkan laptop dari yang termahal ke termurah\n",
            "3 untuk mengurutkan laptop berdasarkan rating terendah ke tertinggi\n",
            "4 untuk mengurutkan laptop berdasarkan rating tertinggi ke terendah\n",
            "5 untuk keluar dari sistem\n",
            "Masukkan pilihan Anda\n",
            "Masukkan pilihan dengan rentang angka 1-5 : 1\n",
            " Harga laptop telah diurutkan dari yang termurah \n",
            "╭───────────────────────┬──────────────┬──────────╮\n",
            "│ Jenis Laptop          │   Harga (Rp) │   Rating │\n",
            "├───────────────────────┼──────────────┼──────────┤\n",
            "│ Advan Workplus        │      7800000 │      4.7 │\n",
            "├───────────────────────┼──────────────┼──────────┤\n",
            "│ Asus Vivobook 14      │      9300000 │      4.7 │\n",
            "├───────────────────────┼──────────────┼──────────┤\n",
            "│ Lenovo Ideapad Slim 3 │      9500000 │      5   │\n",
            "├───────────────────────┼──────────────┼──────────┤\n",
            "│ Acer Swift Go 14 AI   │     12000000 │      4.9 │\n",
            "├───────────────────────┼──────────────┼──────────┤\n",
            "│ HP Victus             │     12400000 │      4.8 │\n",
            "├───────────────────────┼──────────────┼──────────┤\n",
            "│ Macbook Air M2        │     13999000 │      4.8 │\n",
            "╰───────────────────────┴──────────────┴──────────╯\n",
            "\n",
            "Tekan ENTER untuk kembali ke menu...\n",
            "Selamat datang di Toko Laptop YasGemink\n",
            "Silahkan pilih jenis laptop melalui fitur yang ada pada sistem kami:\n",
            "1 untuk mengurutkan laptop dari yang termurah ke termahal\n",
            "2 untuk mengurutkan laptop dari yang termahal ke termurah\n",
            "3 untuk mengurutkan laptop berdasarkan rating terendah ke tertinggi\n",
            "4 untuk mengurutkan laptop berdasarkan rating tertinggi ke terendah\n",
            "5 untuk keluar dari sistem\n",
            "Masukkan pilihan Anda\n",
            "Masukkan pilihan dengan rentang angka 1-5 : 2\n",
            "Harga laptop telah diurutkan dari yang termahal\n",
            "╭───────────────────────┬──────────────┬──────────╮\n",
            "│ Jenis Laptop          │   Harga (Rp) │   Rating │\n",
            "├───────────────────────┼──────────────┼──────────┤\n",
            "│ Macbook Air M2        │     13999000 │      4.8 │\n",
            "├───────────────────────┼──────────────┼──────────┤\n",
            "│ HP Victus             │     12400000 │      4.8 │\n",
            "├───────────────────────┼──────────────┼──────────┤\n",
            "│ Acer Swift Go 14 AI   │     12000000 │      4.9 │\n",
            "├───────────────────────┼──────────────┼──────────┤\n",
            "│ Lenovo Ideapad Slim 3 │      9500000 │      5   │\n",
            "├───────────────────────┼──────────────┼──────────┤\n",
            "│ Asus Vivobook 14      │      9300000 │      4.7 │\n",
            "├───────────────────────┼──────────────┼──────────┤\n",
            "│ Advan Workplus        │      7800000 │      4.7 │\n",
            "╰───────────────────────┴──────────────┴──────────╯\n",
            "\n",
            "Tekan ENTER untuk kembali ke menu...\n",
            "Selamat datang di Toko Laptop YasGemink\n",
            "Silahkan pilih jenis laptop melalui fitur yang ada pada sistem kami:\n",
            "1 untuk mengurutkan laptop dari yang termurah ke termahal\n",
            "2 untuk mengurutkan laptop dari yang termahal ke termurah\n",
            "3 untuk mengurutkan laptop berdasarkan rating terendah ke tertinggi\n",
            "4 untuk mengurutkan laptop berdasarkan rating tertinggi ke terendah\n",
            "5 untuk keluar dari sistem\n",
            "Masukkan pilihan Anda\n",
            "Masukkan pilihan dengan rentang angka 1-5 : 3\n",
            "Rating laptop telah diurutkan dari yang terendah\n",
            "╭───────────────────────┬──────────────┬──────────╮\n",
            "│ Jenis Laptop          │   Harga (Rp) │   Rating │\n",
            "├───────────────────────┼──────────────┼──────────┤\n",
            "│ Advan Workplus        │      7800000 │      4.7 │\n",
            "├───────────────────────┼──────────────┼──────────┤\n",
            "│ Asus Vivobook 14      │      9300000 │      4.7 │\n",
            "├───────────────────────┼──────────────┼──────────┤\n",
            "│ HP Victus             │     12400000 │      4.8 │\n",
            "├───────────────────────┼──────────────┼──────────┤\n",
            "│ Macbook Air M2        │     13999000 │      4.8 │\n",
            "├───────────────────────┼──────────────┼──────────┤\n",
            "│ Acer Swift Go 14 AI   │     12000000 │      4.9 │\n",
            "├───────────────────────┼──────────────┼──────────┤\n",
            "│ Lenovo Ideapad Slim 3 │      9500000 │      5   │\n",
            "╰───────────────────────┴──────────────┴──────────╯\n",
            "\n",
            "Tekan ENTER untuk kembali ke menu...4\n",
            "Selamat datang di Toko Laptop YasGemink\n",
            "Silahkan pilih jenis laptop melalui fitur yang ada pada sistem kami:\n",
            "1 untuk mengurutkan laptop dari yang termurah ke termahal\n",
            "2 untuk mengurutkan laptop dari yang termahal ke termurah\n",
            "3 untuk mengurutkan laptop berdasarkan rating terendah ke tertinggi\n",
            "4 untuk mengurutkan laptop berdasarkan rating tertinggi ke terendah\n",
            "5 untuk keluar dari sistem\n",
            "Masukkan pilihan Anda\n",
            "Masukkan pilihan dengan rentang angka 1-5 : 4\n",
            "Rating laptop telah diurutkan dari yang tertinggi\n",
            "╭───────────────────────┬──────────────┬──────────╮\n",
            "│ Jenis Laptop          │   Harga (Rp) │   Rating │\n",
            "├───────────────────────┼──────────────┼──────────┤\n",
            "│ Lenovo Ideapad Slim 3 │      9500000 │      5   │\n",
            "├───────────────────────┼──────────────┼──────────┤\n",
            "│ Acer Swift Go 14 AI   │     12000000 │      4.9 │\n",
            "├───────────────────────┼──────────────┼──────────┤\n",
            "│ HP Victus             │     12400000 │      4.8 │\n",
            "├───────────────────────┼──────────────┼──────────┤\n",
            "│ Macbook Air M2        │     13999000 │      4.8 │\n",
            "├───────────────────────┼──────────────┼──────────┤\n",
            "│ Advan Workplus        │      7800000 │      4.7 │\n",
            "├───────────────────────┼──────────────┼──────────┤\n",
            "│ Asus Vivobook 14      │      9300000 │      4.7 │\n",
            "╰───────────────────────┴──────────────┴──────────╯\n",
            "\n",
            "Tekan ENTER untuk kembali ke menu...\n",
            "Selamat datang di Toko Laptop YasGemink\n",
            "Silahkan pilih jenis laptop melalui fitur yang ada pada sistem kami:\n",
            "1 untuk mengurutkan laptop dari yang termurah ke termahal\n",
            "2 untuk mengurutkan laptop dari yang termahal ke termurah\n",
            "3 untuk mengurutkan laptop berdasarkan rating terendah ke tertinggi\n",
            "4 untuk mengurutkan laptop berdasarkan rating tertinggi ke terendah\n",
            "5 untuk keluar dari sistem\n",
            "Masukkan pilihan Anda\n",
            "Masukkan pilihan dengan rentang angka 1-5 : d\n",
            "Pilihan yang anda masukkan tidak valid, silahkan dicoba lagi \n",
            "\n",
            "Tekan ENTER untuk kembali ke menu...5\n",
            "Selamat datang di Toko Laptop YasGemink\n",
            "Silahkan pilih jenis laptop melalui fitur yang ada pada sistem kami:\n",
            "1 untuk mengurutkan laptop dari yang termurah ke termahal\n",
            "2 untuk mengurutkan laptop dari yang termahal ke termurah\n",
            "3 untuk mengurutkan laptop berdasarkan rating terendah ke tertinggi\n",
            "4 untuk mengurutkan laptop berdasarkan rating tertinggi ke terendah\n",
            "5 untuk keluar dari sistem\n",
            "Masukkan pilihan Anda\n",
            "Masukkan pilihan dengan rentang angka 1-5 : 5\n",
            "Terima kasih telah mengunjungi sistem kami\n"
          ]
        }
      ]
    },
    {
      "cell_type": "code",
      "source": [],
      "metadata": {
        "id": "yCSMShuQKbSB"
      },
      "execution_count": null,
      "outputs": []
    }
  ]
}