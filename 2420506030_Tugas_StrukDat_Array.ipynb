{
  "nbformat": 4,
  "nbformat_minor": 0,
  "metadata": {
    "colab": {
      "provenance": [],
      "authorship_tag": "ABX9TyMjrtknybm01cLWfCbXIlWs",
      "include_colab_link": true
    },
    "kernelspec": {
      "name": "python3",
      "display_name": "Python 3"
    },
    "language_info": {
      "name": "python"
    }
  },
  "cells": [
    {
      "cell_type": "markdown",
      "metadata": {
        "id": "view-in-github",
        "colab_type": "text"
      },
      "source": [
        "<a href=\"https://colab.research.google.com/github/Yasabuana/Struktur-Data/blob/main/2420506030_Tugas_StrukDat_Array.ipynb\" target=\"_parent\"><img src=\"https://colab.research.google.com/assets/colab-badge.svg\" alt=\"Open In Colab\"/></a>"
      ]
    },
    {
      "cell_type": "code",
      "source": [
        "# Ukuran peta\n",
        "size = 10\n",
        "\n",
        "# Membuat peta dengan harta karun tersembunyi\n",
        "treasure_map = [\"_\" for _ in range(size)]\n",
        "\n",
        "# Tentukan lokasi harta karun secara manual\n",
        "print(f\"Selamat datang di Treasure Hunt! Peta memiliki {size} lokasi (0 hingga {size - 1}).\")\n",
        "treasure_index = int(input(f\"Masukkan lokasi harta karun (0-{size - 1}): \"))\n",
        "\n",
        "while treasure_index < 0 or treasure_index >= size:\n",
        "    print(\"Lokasi tidak valid. Masukkan angka dalam rentang yang benar.\")\n",
        "    treasure_index = int(input(f\"Masukkan lokasi harta karun (0-{size - 1}): \"))\n",
        "\n",
        "treasure_map[treasure_index] = \"X\"  # Menyembunyikan harta karun di lokasi yang dipilih\n",
        "\n",
        "# Fungsi untuk memulai permainan\n",
        "def play_treasure_hunt():\n",
        "    print(\"\\nHarta karun telah disembunyikan! Sekarang giliran pemain menebak.\")\n",
        "    print(\"Cobalah untuk menemukan harta karun dengan menebak indeks yang benar.\")\n",
        "\n",
        "    # Loop permainan\n",
        "    while True:\n",
        "        # Menampilkan peta tersembunyi kepada pemain\n",
        "        print(\"\\nPeta saat ini: \", [\"_\" for _ in range(size)])  # Peta tersembunyi\n",
        "\n",
        "        # Input pemain\n",
        "        try:\n",
        "            guess = int(input(f\"Masukkan indeks tebakanmu (0-{size - 1}): \"))\n",
        "        except ValueError:\n",
        "            print(\"Masukkan angka yang valid!\")\n",
        "            continue\n",
        "\n",
        "        # Validasi input\n",
        "        if guess < 0 or guess >= size:\n",
        "            print(f\"Indeks tidak valid, pilih antara 0 hingga {size - 1}\")\n",
        "            continue\n",
        "\n",
        "        # Mengecek apakah tebakan benar\n",
        "        if treasure_map[guess] == \"X\":\n",
        "            print(f\"Selamat! Kamu menemukan harta karun di lokasi: {guess}\")\n",
        "            break\n",
        "        else:\n",
        "            print(\"Tidak ada harta di lokasi ini. Coba lagi!\")\n",
        "\n",
        "    print(\"Terima kasih sudah bermain!\")\n",
        "\n",
        "# Jalankan permainan\n",
        "play_treasure_hunt()"
      ],
      "metadata": {
        "colab": {
          "base_uri": "https://localhost:8080/"
        },
        "id": "jBsLLHmjZY-T",
        "outputId": "49841b18-7aa1-467a-90bd-b59754a4d8a0"
      },
      "execution_count": 1,
      "outputs": [
        {
          "output_type": "stream",
          "name": "stdout",
          "text": [
            "Selamat datang di Treasure Hunt! Peta memiliki 10 lokasi (0 hingga 9).\n",
            "Masukkan lokasi harta karun (0-9): 3\n",
            "\n",
            "Harta karun telah disembunyikan! Sekarang giliran pemain menebak.\n",
            "Cobalah untuk menemukan harta karun dengan menebak indeks yang benar.\n",
            "\n",
            "Peta saat ini:  ['_', '_', '_', '_', '_', '_', '_', '_', '_', '_']\n",
            "Masukkan indeks tebakanmu (0-9): 1\n",
            "Tidak ada harta di lokasi ini. Coba lagi!\n",
            "\n",
            "Peta saat ini:  ['_', '_', '_', '_', '_', '_', '_', '_', '_', '_']\n",
            "Masukkan indeks tebakanmu (0-9): 3\n",
            "Selamat! Kamu menemukan harta karun di lokasi: 3\n",
            "Terima kasih sudah bermain!\n"
          ]
        }
      ]
    },
    {
      "cell_type": "code",
      "execution_count": 3,
      "metadata": {
        "id": "EiF7C5NckiUO",
        "colab": {
          "base_uri": "https://localhost:8080/"
        },
        "outputId": "f6f85c41-1304-4796-b185-22ba1ffb90cc"
      },
      "outputs": [
        {
          "output_type": "stream",
          "name": "stdout",
          "text": [
            "Masukkan ukuran peta (contoh: 7):3\n",
            "Selamat datang di Treasure Hunt! Peta memiliki 3 lokasi (0 hingga 2).\n",
            "\n",
            "Harta karun telah disembunyikan! Sekarang giliran pemain menebak.\n",
            "Cobalah untuk menemukan harta karun dengan menebak indeks yang benar.\n",
            "\n",
            "Peta saat ini:  ['_', '_', '_']\n",
            "Masukkan indeks tebakanmu(0-2):0\n",
            "Tidak ada harta di lokasi ini. Coba lagi! \n",
            "\n",
            "Peta saat ini:  ['_', '_', '_']\n",
            "Masukkan indeks tebakanmu(0-2):2\n",
            "Selamat! Kamu menemukan harta karun di lokasi: 2\n",
            "Terima kasih sudah bermain!\n"
          ]
        }
      ],
      "source": [
        "#Ukuran peta\n",
        "import random\n",
        "size = int(input(\"Masukkan ukuran peta (contoh: 7):\"))\n",
        "\n",
        "\n",
        "# Membuat peta dengan harta karun tersembunyi\n",
        "treasure_map = [\"_\" for _ in range(size)]\n",
        "\n",
        "#Tentukan lokasi harta karun secara otomatis\n",
        "print(f\"Selamat datang di Treasure Hunt! Peta memiliki {size} lokasi (0 hingga {size-1}).\")\n",
        "treasure_index = random.randint(0, size-1)\n",
        "\n",
        "treasure_map[treasure_index] = \"X\" # Menyembunyikan harta karun di lokasi yang dipilih\n",
        "\n",
        "# Fungsi untuk memulai permainan\n",
        "def play_treasure_hunt():\n",
        "    print(\"\\nHarta karun telah disembunyikan! Sekarang giliran pemain menebak.\")\n",
        "    print(\"Cobalah untuk menemukan harta karun dengan menebak indeks yang benar.\")\n",
        "\n",
        "      # Loop permainan\n",
        "    while True:\n",
        "          # Menampilkan peta tersembunyi kepada pemain\n",
        "          print(\"\\nPeta saat ini: \", [\"_\" for _ in range(size)])  # Peta Tersembunyi\n",
        "\n",
        "          # Input pemain\n",
        "          try:\n",
        "            guess = int(input(f\"Masukkan indeks tebakanmu(0-{size-1}):\"))\n",
        "          except ValueError:\n",
        "            print(\"Masukkan angka yang valid\")\n",
        "            continue\n",
        "            # Validasi Input\n",
        "          if guess < 0 or guess >= size:\n",
        "                print(\"Indeks tidak valid, pilih antara 0 hingga\", size-1)\n",
        "                continue\n",
        "            # Mengecek apakah tebakan benar\n",
        "          if treasure_map[guess] == \"X\" :\n",
        "                print(\"Selamat! Kamu menemukan harta karun di lokasi:\" , guess)\n",
        "                break\n",
        "          else:\n",
        "                print(\"Tidak ada harta di lokasi ini. Coba lagi! \")\n",
        "\n",
        "    print(\"Terima kasih sudah bermain!\")\n",
        "\n",
        "# Jalankan Permainan\n",
        "play_treasure_hunt()\n",
        "\n",
        "\n"
      ]
    },
    {
      "cell_type": "code",
      "source": [
        "5\n"
      ],
      "metadata": {
        "id": "hOJh3FkQ2Jmq"
      },
      "execution_count": null,
      "outputs": []
    },
    {
      "cell_type": "code",
      "source": [],
      "metadata": {
        "id": "cG0M5PuWpwIg"
      },
      "execution_count": null,
      "outputs": []
    }
  ]
}