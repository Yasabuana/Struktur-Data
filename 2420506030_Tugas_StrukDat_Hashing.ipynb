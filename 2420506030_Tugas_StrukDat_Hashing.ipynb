{
  "nbformat": 4,
  "nbformat_minor": 0,
  "metadata": {
    "colab": {
      "provenance": [],
      "authorship_tag": "ABX9TyOLjr4/Ju77F0waHFuYqFWo",
      "include_colab_link": true
    },
    "kernelspec": {
      "name": "python3",
      "display_name": "Python 3"
    },
    "language_info": {
      "name": "python"
    }
  },
  "cells": [
    {
      "cell_type": "markdown",
      "metadata": {
        "id": "view-in-github",
        "colab_type": "text"
      },
      "source": [
        "<a href=\"https://colab.research.google.com/github/Yasabuana/Struktur-Data/blob/main/2420506030_Tugas_StrukDat_Hashing.ipynb\" target=\"_parent\"><img src=\"https://colab.research.google.com/assets/colab-badge.svg\" alt=\"Open In Colab\"/></a>"
      ]
    },
    {
      "cell_type": "code",
      "source": [
        "class LinearProbingHashTable:\n",
        "    def __init__(self, size):\n",
        "        self.size = size\n",
        "        self.table = [None] * size\n",
        "\n",
        "    def hash_function(self, key):\n",
        "        return hash(key) % self.size\n",
        "\n",
        "    def insert(self, key, value):\n",
        "        index = self.hash_function(key)\n",
        "        original_index = index\n",
        "\n",
        "        while self.table[index] is not None:\n",
        "              if self.table[index] [0] == key:\n",
        "                  break\n",
        "              index = (index + 1) % self.size\n",
        "              if index == original_index:\n",
        "                  raise Exception(\"Hash table penuh\")\n",
        "        self.table[index] = (key, value)\n",
        "\n",
        "    def search(self, key):\n",
        "        index = self.hash_function(key)\n",
        "        original_index = index\n",
        "\n",
        "        while self.table[index] is not None:\n",
        "            if self.table[index] [0] == key:\n",
        "                return self.table[index] [1]\n",
        "            index = (index + 1) % self.size\n",
        "            if index == original_index:\n",
        "                break\n",
        "        return None\n",
        "\n",
        "\n",
        "ht = LinearProbingHashTable(5)\n",
        "ht.insert(\"A\", 10)\n",
        "ht.insert(\"B\", 20)\n",
        "ht.insert(\"C\", 30)\n",
        "ht.insert(\"D\", 40)\n",
        "ht.insert(\"E\", 50)\n",
        "\n",
        "for index, entry in enumerate(ht.table):\n",
        "    if entry is not None:\n",
        "        key, value = entry\n",
        "        print(f\"Index {index}: {key} -> {value}\")\n",
        "\n",
        "\n"
      ],
      "metadata": {
        "colab": {
          "base_uri": "https://localhost:8080/"
        },
        "id": "zNBERSAFV09V",
        "outputId": "513891fc-9cd7-4ba6-a20d-12ade06efb2a"
      },
      "execution_count": null,
      "outputs": [
        {
          "output_type": "stream",
          "name": "stdout",
          "text": [
            "Index 0: C -> 30\n",
            "Index 1: D -> 40\n",
            "Index 2: A -> 10\n",
            "Index 3: E -> 50\n",
            "Index 4: B -> 20\n"
          ]
        }
      ]
    },
    {
      "cell_type": "code",
      "source": [
        "class ChainingHashTable:\n",
        "    def __init__(self, size):\n",
        "        self.size = size\n",
        "        self.table = [[] for _ in range(size)]\n",
        "\n",
        "    def hash_function(self, key):\n",
        "        return sum(ord(char) for char in key) % self.size\n",
        "\n",
        "    def insert(self, key, value):\n",
        "        index = self.hash_function(key)\n",
        "        for i, (k, v) in enumerate(self.table[index]):\n",
        "            if k == key:\n",
        "                self.table[index] [i] = (key, value)\n",
        "                return\n",
        "        self.table[index].append((key, value))\n",
        "\n",
        "    def search(self, key):\n",
        "        index = self.hash_function(key)\n",
        "        for k, v in self.table[index]:\n",
        "            if k == key:\n",
        "                return v\n",
        "        return None\n",
        "\n",
        "ht = ChainingHashTable(3)\n",
        "ht.insert(\"apel\", 100)\n",
        "ht.insert(\"melon\", 200)\n",
        "ht.insert(\"lemon\", 300)\n",
        "ht.insert(\"pisang\", 400)\n",
        "\n",
        "print(\"Isi Tabel Hash:\")\n",
        "for i, chain in enumerate(ht.table):\n",
        "    print(f\"Slot {i}: {chain}\")"
      ],
      "metadata": {
        "colab": {
          "base_uri": "https://localhost:8080/"
        },
        "outputId": "03f5e259-adcc-45bb-f6d4-f3dff4498530",
        "id": "MCCSq1ctYx_E"
      },
      "execution_count": null,
      "outputs": [
        {
          "output_type": "stream",
          "name": "stdout",
          "text": [
            "Isi Tabel Hash:\n",
            "Slot 0: [('pisang', 400)]\n",
            "Slot 1: [('apel', 100)]\n",
            "Slot 2: [('melon', 200), ('lemon', 300)]\n"
          ]
        }
      ]
    },
    {
      "cell_type": "code",
      "source": [],
      "metadata": {
        "id": "fceCPV3hXlaG"
      },
      "execution_count": null,
      "outputs": []
    }
  ]
}