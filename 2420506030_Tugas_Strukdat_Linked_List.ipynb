{
  "nbformat": 4,
  "nbformat_minor": 0,
  "metadata": {
    "colab": {
      "provenance": [],
      "authorship_tag": "ABX9TyOj1AVJCOnHfhZ73ZWDZHK6",
      "include_colab_link": true
    },
    "kernelspec": {
      "name": "python3",
      "display_name": "Python 3"
    },
    "language_info": {
      "name": "python"
    }
  },
  "cells": [
    {
      "cell_type": "markdown",
      "metadata": {
        "id": "view-in-github",
        "colab_type": "text"
      },
      "source": [
        "<a href=\"https://colab.research.google.com/github/Yasabuana/Struktur-Data/blob/main/2420506030_Tugas_Strukdat_Linked_List.ipynb\" target=\"_parent\"><img src=\"https://colab.research.google.com/assets/colab-badge.svg\" alt=\"Open In Colab\"/></a>"
      ]
    },
    {
      "cell_type": "code",
      "source": [
        "class SatpamNode:\n",
        "    def __init__(self, data):\n",
        "        self.data = data\n",
        "        self.next = None\n",
        "        self.Nama = data\n",
        "\n",
        "class SatpamList:\n",
        "    def __init__(self):\n",
        "        self.head = None\n",
        "\n",
        "    def tambahSatpam(self, data):\n",
        "        node = SatpamNode(data)\n",
        "        if self.head == None:\n",
        "            self.head = node\n",
        "            node.next = self.head\n",
        "        else:\n",
        "            current = self.head\n",
        "            while current.next != self.head:\n",
        "                current = current.next\n",
        "\n",
        "                if current.next is None:\n",
        "                    break\n",
        "            current.next = node\n",
        "            node.next = self.head\n",
        "\n",
        "    def show_satpam(self):\n",
        "        if not self.head:\n",
        "            print(\"\\nTidak ada Jadwal Satpam Hari Ini!\")\n",
        "            return\n",
        "\n",
        "        print(\"\\nJadwal Satpam Selama 2 Minggu:\")\n",
        "        current = self.head\n",
        "        count = 1\n",
        "\n",
        "        while True:\n",
        "            print(f\"{count}. {current.Nama}\")\n",
        "            current = current.next\n",
        "            count += 1\n",
        "\n",
        "\n",
        "            if count > 14 or current == self.head:\n",
        "                break\n",
        "\n",
        "\n",
        "        while count <= 14:\n",
        "            print(f\"{count}. {current.Nama}\")\n",
        "            current = current.next\n",
        "            count += 1\n",
        "\n",
        "#=======Program Utama=========#\n",
        "\n",
        "satpam = SatpamList()\n",
        "\n",
        "try:\n",
        "    inputsatpam = int(input(\"Masukkan Jumlah Satpam: \"))\n",
        "    if inputsatpam <= 0:\n",
        "        print(\"Jumlah satpam harus lebih dari 0!\")\n",
        "    else:\n",
        "        for i in range(1, inputsatpam + 1):\n",
        "            nama_satpam = input(f\"Masukkan Nama satpam ke-{i}: \")\n",
        "            satpam.tambahSatpam(nama_satpam)\n",
        "\n",
        "        satpam.show_satpam()\n",
        "except ValueError:\n",
        "    print(\"Input harus berupa angka!\")"
      ],
      "metadata": {
        "colab": {
          "base_uri": "https://localhost:8080/"
        },
        "id": "tXX-gdS64jJI",
        "outputId": "c57f64da-67b3-4719-db4c-5c0f7c1b3ab9"
      },
      "execution_count": null,
      "outputs": [
        {
          "output_type": "stream",
          "name": "stdout",
          "text": [
            "Masukkan Jumlah Satpam: 4\n",
            "Masukkan Nama satpam ke-1: Yasabuana\n",
            "Masukkan Nama satpam ke-2: Aldian\n",
            "Masukkan Nama satpam ke-3: Ronald\n",
            "Masukkan Nama satpam ke-4: Mayza\n",
            "\n",
            "Jadwal Satpam Selama 2 Minggu:\n",
            "1. Yasabuana\n",
            "2. Aldian\n",
            "3. Ronald\n",
            "4. Mayza\n",
            "5. Yasabuana\n",
            "6. Aldian\n",
            "7. Ronald\n",
            "8. Mayza\n",
            "9. Yasabuana\n",
            "10. Aldian\n",
            "11. Ronald\n",
            "12. Mayza\n",
            "13. Yasabuana\n",
            "14. Aldian\n"
          ]
        }
      ]
    }
  ]
}