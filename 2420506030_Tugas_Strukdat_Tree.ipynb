{
  "nbformat": 4,
  "nbformat_minor": 0,
  "metadata": {
    "colab": {
      "provenance": [],
      "authorship_tag": "ABX9TyPGFdk6aRRydvbjsvDEGmxX",
      "include_colab_link": true
    },
    "kernelspec": {
      "name": "python3",
      "display_name": "Python 3"
    },
    "language_info": {
      "name": "python"
    }
  },
  "cells": [
    {
      "cell_type": "markdown",
      "metadata": {
        "id": "view-in-github",
        "colab_type": "text"
      },
      "source": [
        "<a href=\"https://colab.research.google.com/github/Yasabuana/Struktur-Data/blob/main/2420506030_Tugas_Strukdat_Tree.ipynb\" target=\"_parent\"><img src=\"https://colab.research.google.com/assets/colab-badge.svg\" alt=\"Open In Colab\"/></a>"
      ]
    },
    {
      "cell_type": "code",
      "source": [
        "# Struktur Tree berdasarkan identitasku\n",
        "class Node:\n",
        "    def __init__(self,data):\n",
        "        self.data = data\n",
        "        self.left = None\n",
        "        self.right = None\n",
        "\n",
        "root = Node(31)\n",
        "root.left = Node(16)\n",
        "root.right = Node(30)\n",
        "root.left.left = Node(3)\n",
        "root.right.right = Node(12)\n",
        "\n",
        "def inorder(node):\n",
        "    if node:\n",
        "        inorder(node.left)\n",
        "        print(node.data, end=' ')\n",
        "        inorder(node.right)\n",
        "\n",
        "print(\"Hasil struktur Tree berdasarkan identitasku :\")\n",
        "inorder(root)"
      ],
      "metadata": {
        "colab": {
          "base_uri": "https://localhost:8080/"
        },
        "id": "ZFdw0WUSLowX",
        "outputId": "49943d7d-ff25-49c2-e437-10843432b965"
      },
      "execution_count": null,
      "outputs": [
        {
          "output_type": "stream",
          "name": "stdout",
          "text": [
            "Hasil struktur Tree berdasarkan identitasku :\n",
            "3 16 31 30 12 "
          ]
        }
      ]
    },
    {
      "cell_type": "code",
      "source": [
        "class Node:\n",
        "    def __init__(self, data):\n",
        "        self.data = data\n",
        "        self.left = None\n",
        "        self.right = None\n",
        "\n",
        "class BinarySearchTree:\n",
        "    def __init__(self):\n",
        "        self.root = None\n",
        "    def insert(self, root, data):\n",
        "        if root is None:\n",
        "            return Node(data)\n",
        "        if data < root.data:\n",
        "            root.left = self.insert(root.left, data)\n",
        "        else:\n",
        "            root.right = self.insert(root.right, data)\n",
        "        return root\n",
        "\n",
        "def inorder(node):\n",
        "    if node:\n",
        "        inorder(node.left)\n",
        "        print(node.data, end=' ')\n",
        "        inorder(node.right)\n",
        "\n",
        "def preorder(node):\n",
        "    if node:\n",
        "        print(node.data, end=' ')\n",
        "        preorder(node.left)\n",
        "        preorder(node.right)\n",
        "\n",
        "def postorder(node):\n",
        "    if node:\n",
        "        postorder(node.left)\n",
        "        postorder(node.right)\n",
        "        print(node.data, end=' ')\n",
        "\n",
        "def search(node, key):\n",
        "    if node is None or node.data == key:\n",
        "        return node\n",
        "    if key < node.data:\n",
        "        return search(node.left, key)\n",
        "    return search(node.right, key)\n",
        "\n",
        "\n",
        "bst = BinarySearchTree()\n",
        "root = None\n",
        "data_list = [30, 3, 12, 89, 65, 17, 25]\n",
        "for value in data_list:\n",
        "    root = bst.insert(root, value)\n",
        "\n",
        "\n",
        "print(\"Inorder traversal:\")\n",
        "inorder(root)\n",
        "print(\"\\nPreorder traversal:\")\n",
        "preorder(root)\n",
        "print(\"\\nPostorder traversal:\")\n",
        "postorder(root)\n",
        "print(\"\")\n",
        "\n",
        "#Cari NPM\n",
        "key = 30\n",
        "result = search(root, key)\n",
        "if result:\n",
        "    print(f\"NPM mu yaitu {key} ada coyy \")\n",
        "else:\n",
        "    print(f\"Yahh NPM mu gaada:(\")\n",
        "\n",
        "#Cari angka bebas\n",
        "key = 71\n",
        "result = search(root, key)\n",
        "if result:\n",
        "    print(f\"{key}Angka yang kamu cari ada\")\n",
        "else:\n",
        "    print(f\"Angka yang kamu cari gaada\")"
      ],
      "metadata": {
        "colab": {
          "base_uri": "https://localhost:8080/"
        },
        "id": "T6qFQPAMNwBe",
        "outputId": "321f835f-7621-4d76-8d98-faa4f1ffe2d0"
      },
      "execution_count": 3,
      "outputs": [
        {
          "output_type": "stream",
          "name": "stdout",
          "text": [
            "Inorder traversal:\n",
            "3 12 17 25 30 65 89 \n",
            "Preorder traversal:\n",
            "30 3 12 17 25 89 65 \n",
            "Postorder traversal:\n",
            "25 17 12 3 65 89 30 \n",
            "NPM mu yaitu 30 ada coyy \n",
            "Angka yang kamu cari gaada\n"
          ]
        }
      ]
    },
    {
      "cell_type": "code",
      "source": [],
      "metadata": {
        "id": "Xv6UdgUzQAU6"
      },
      "execution_count": null,
      "outputs": []
    }
  ]
}