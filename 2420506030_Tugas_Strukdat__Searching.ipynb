{
  "nbformat": 4,
  "nbformat_minor": 0,
  "metadata": {
    "colab": {
      "provenance": [],
      "authorship_tag": "ABX9TyNR1q5KQAKs5QS3Qsdue+2y",
      "include_colab_link": true
    },
    "kernelspec": {
      "name": "python3",
      "display_name": "Python 3"
    },
    "language_info": {
      "name": "python"
    }
  },
  "cells": [
    {
      "cell_type": "markdown",
      "metadata": {
        "id": "view-in-github",
        "colab_type": "text"
      },
      "source": [
        "<a href=\"https://colab.research.google.com/github/Yasabuana/Struktur-Data/blob/main/2420506030_Tugas_Strukdat__Searching.ipynb\" target=\"_parent\"><img src=\"https://colab.research.google.com/assets/colab-badge.svg\" alt=\"Open In Colab\"/></a>"
      ]
    },
    {
      "cell_type": "code",
      "source": [
        "import random\n",
        "import math\n",
        "from tabulate import tabulate\n",
        "\n",
        "def Random_List(size, start=1, end=1000):\n",
        "    return sorted(random.sample(range(start, end + 1), size))\n",
        "\n",
        "def linear_search(arr, target):\n",
        "    perbandingan = 0\n",
        "    for i, value in enumerate(arr):\n",
        "        perbandingan += 1\n",
        "        if value == target:\n",
        "            return i, perbandingan\n",
        "    return -1, perbandingan\n",
        "\n",
        "def binary_search(arr, target):\n",
        "    left, right = 0, len(arr) - 1\n",
        "    perbandingan = 0\n",
        "    while left <= right:\n",
        "        mid = (left + right) // 2\n",
        "        perbandingan += 1\n",
        "        if arr[mid] == target:\n",
        "            return mid, perbandingan\n",
        "        elif arr[mid] < target:\n",
        "            left = mid + 1\n",
        "        else:\n",
        "            right = mid - 1\n",
        "    return -1, perbandingan\n",
        "\n",
        "def jump_search(arr, target):\n",
        "    length = len(arr)\n",
        "    step = int(math.sqrt(length))\n",
        "    prev = 0\n",
        "    perbandingan = 0\n",
        "\n",
        "    while prev < length and arr[min(step, length) - 1] < target:\n",
        "        perbandingan += 1\n",
        "        prev = step\n",
        "        step += int(math.sqrt(length))\n",
        "        if prev >= length:\n",
        "            return -1, perbandingan\n",
        "\n",
        "    for i in range(prev, min(step, length)):\n",
        "        perbandingan += 1\n",
        "        if arr[i] == target:\n",
        "            return i, perbandingan\n",
        "\n",
        "    return -1, perbandingan\n",
        "\n",
        "def perbandingan_search_algoritma():\n",
        "    size = 100\n",
        "    random_list = Random_List(size)\n",
        "    target = random.choice(random_list)\n",
        "\n",
        "    results = [\n",
        "        [\"Linear Search\", *linear_search(random_list, target)],\n",
        "        [\"Binary Search\", *binary_search(random_list, target)],\n",
        "        [\"Jump Search\", *jump_search(random_list, target)]\n",
        "    ]\n",
        "\n",
        "    print(f\"Target: {target}\\n\")\n",
        "    print(tabulate(results, headers=[\"Algoritma\", \"Index\", \"Perbandingan\"],tablefmt=\"grid\"))\n",
        "\n",
        "if __name__ == \"__main__\":\n",
        "    perbandingan_search_algoritma()\n"
      ],
      "metadata": {
        "colab": {
          "base_uri": "https://localhost:8080/"
        },
        "id": "nRxaalnxXC6v",
        "outputId": "00e2d817-9a68-4cdc-c893-4163c10ea991"
      },
      "execution_count": 3,
      "outputs": [
        {
          "output_type": "stream",
          "name": "stdout",
          "text": [
            "Target: 363\n",
            "\n",
            "+---------------+---------+----------------+\n",
            "| Algoritma     |   Index |   Perbandingan |\n",
            "+===============+=========+================+\n",
            "| Linear Search |      39 |             40 |\n",
            "+---------------+---------+----------------+\n",
            "| Binary Search |      39 |              5 |\n",
            "+---------------+---------+----------------+\n",
            "| Jump Search   |      39 |             13 |\n",
            "+---------------+---------+----------------+\n"
          ]
        }
      ]
    },
    {
      "cell_type": "code",
      "source": [],
      "metadata": {
        "id": "symshc64K-Je"
      },
      "execution_count": null,
      "outputs": []
    }
  ]
}